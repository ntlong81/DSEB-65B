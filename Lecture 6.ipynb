{
 "cells": [
  {
   "cell_type": "markdown",
   "metadata": {},
   "source": [
    "## String: methods and Regex"
   ]
  },
  {
   "cell_type": "markdown",
   "metadata": {},
   "source": [
    "### Some methods"
   ]
  },
  {
   "cell_type": "code",
   "execution_count": 1,
   "metadata": {},
   "outputs": [
    {
     "data": {
      "text/plain": [
       "[1, 2, 3, 3, 4, 5]"
      ]
     },
     "execution_count": 1,
     "metadata": {},
     "output_type": "execute_result"
    }
   ],
   "source": [
    "[1,2,3] +[3,4,5]"
   ]
  },
  {
   "cell_type": "code",
   "execution_count": 2,
   "metadata": {},
   "outputs": [
    {
     "data": {
      "text/plain": [
       "'string1string2'"
      ]
     },
     "execution_count": 2,
     "metadata": {},
     "output_type": "execute_result"
    }
   ],
   "source": [
    "'string1' + \"string2\""
   ]
  },
  {
   "cell_type": "code",
   "execution_count": 3,
   "metadata": {},
   "outputs": [
    {
     "data": {
      "text/plain": [
       "'df'"
      ]
     },
     "execution_count": 3,
     "metadata": {},
     "output_type": "execute_result"
    }
   ],
   "source": [
    "astr = \"sdflsfk dfsfsf\"\n",
    "astr[1:3] "
   ]
  },
  {
   "cell_type": "code",
   "execution_count": 26,
   "metadata": {},
   "outputs": [
    {
     "name": "stdout",
     "output_type": "stream",
     "text": [
      "To help you understand why prompt engineering\n",
      "is so important, I'm going to give you\n",
      "an initial example that shows where we tap into really complex\n",
      "capabilities of ChatGPT. But you can also do this with other large language models. The way we tap into these capabilities is\n",
      "by using a pattern, a pattern that we can use\n",
      "when we're writing prompts to get into these really\n",
      "interesting abilities of the large language models. Now, if you know these\n",
      "patterns and we'll talk about them in detail\n",
      "in this course, you'll be more effective\n",
      "in writing prompts. You'll be able to do things that other people won't be\n",
      "able to do as easily. Now, I'm going to\n",
      "give you an example. It's going to use something\n",
      "called the persona pattern. Now I'm not going to\n",
      "go into detail about the persona pattern\n",
      "at this point. But basically it's a pattern that we see all over the place. You'll see lots of\n",
      "different examples of this pattern out there on the Internet where\n",
      "people talk about using it to do lots and lots\n",
      "of different things. But the basic idea\n",
      "is you're going to ask the large language\n",
      "model in this case ChatGPT, you're going to ask it to act\n",
      "like a particular persona. Now what does that\n",
      "mean? It means like you're going\n",
      "to ask it to act like a person or some\n",
      "inanimate object, or an animal, or some system. There's all kinds of ways\n",
      "that you can use this. It's really interesting. But we're going to use\n",
      "it in this example to tap into a persona\n",
      "that is close to me, but one that I know\n",
      "nothing about the domain. One of the really useful things about the persona pattern, as you can imagine, if\n",
      "you needed to go phone an expert to get help\n",
      "on some problem, you know who you would call but you don't know\n",
      "exactly what they would tell you or how they\n",
      "would analyze your problem, and so I wanted something in the way I know an expert that I could\n",
      "go to in this case, my wife is a speech\n",
      "language pathologist. I can have her look at the output and tell\n",
      "me how good it was. But I know nothing about being a speech language pathologist\n",
      "or how to do their job. I imagined that when\n",
      "my son was three, he was not saying\n",
      "things properly. I went to ChatGPT and I said act as a speech-language\n",
      "pathologist. I'm going to tell you\n",
      "what a three-year-old said and you will write\n",
      "an assessment for me. The child said,\n",
      "\"I meed way woy.\" Now you can imagine\n",
      "this might just me being a parent hearing\n",
      "it incorrectly. The child's not pronouncing\n",
      "things correctly. I don't know the right\n",
      "way to even capture this, to even express what's\n",
      "being said in words, the right way to do all of this. This is a complex problem\n",
      "from my perspective. I don't know how to express\n",
      "all of this in language, even to ask the\n",
      "question properly. But I know I would go to a speech language pathologist and I would describe\n",
      "this to him. I tried to think of something\n",
      "that sounded like something my son might have said\n",
      "at that point in time. What did ChatGPT say? Well, you notice first off, its output looks like a report. It says subject assessment of a three-year-old speech\n",
      "sample, child's speech sample. \"I meed way woy\" has it in quotation marks and\n",
      "it says assessment. Based on the provided\n",
      "speech sample, it appears the child\n",
      "may be experiencing some phonological and\n",
      "articulation errors, which are common in\n",
      "children around this age. I don't know what phonological or articulation errors are. I would not have known to ask\n",
      "ChatGPT for these things. But based on this pattern that I'm using, this\n",
      "persona pattern, I'm tapping into\n",
      "this capability for ChatGPT to look at this and know what the right\n",
      "things are to tell me. It says there's phonological\n",
      "and articulation error. It says the child's utterance\n",
      "appears to have errors and consonant production and possibly some difficulty\n",
      "with syllable structure. It says consonant errors. It seems that the child is having difficulty with\n",
      "the production of some consonant sounds\n",
      "specifically the n and l sounds. The child said meed instead of need and woy instead of toy. Then it has in parentheses\n",
      "it's assumption. It says assuming the\n",
      "intended words were need and toy because you can remember\n",
      "my speech sample was, I meed way woy, which my wife told me it wasn't\n",
      "a very good example, may not be something that a\n",
      "child would actually say. Despite that, it's\n",
      "still figuring out if that's really\n",
      "what the child said, this is probably what they\n",
      "were intending to say and it's figuring that out and then it's telling me they're\n",
      "having consonant errors. They're specifically having\n",
      "trouble with n and l sounds. Then it goes on to say\n",
      "syllable structure. The child's production\n",
      "of the word way may indicate some difficulty with the correct syllable structure. It is possible that the\n",
      "child intended to say play, but produced way instead, which suggests a substitution of the initial consonant cluster\n",
      "pl with a single consonant w. This could be an example of a simplification process\n",
      "called cluster reduction. I would not have known\n",
      "how to ask ChatGPT to see if there was problem with syllable structure or\n",
      "cluster reduction. But I used this pattern\n",
      "of saying act as, and I said act as a speech language\n",
      "pathologist and now I'm getting rich output that I wouldn't even know\n",
      "how to ask for. Then it goes on to say\n",
      "because by the way, if you want to do something really unpopular\n",
      "as ChatGPT to produce an output that looks\n",
      "like it's doing somebody's job and that's always a way to be very popular. I did this with my wife one morning and my wife was not very happy\n",
      "because she was trying to get ready to go to\n",
      "work and here I am saying ChatGPT is producing things that look like what you produce. One of her things that\n",
      "she said to me was, if that was a three-year-old, I'd be telling the parents they probably don't need to worry, children's speech\n",
      "is continuing to evolve and I'm paraphrasing\n",
      "what she said. She said it much more\n",
      "eloquently, but she was like, it's just giving you a way\n",
      "overblown analysis of this. I said, yeah, but ChatGPT says\n",
      "that too at the end, considering the child's age, it is important to remember that some speech sound errors are developmentally\n",
      "appropriate and may resolve on their own with time. Of course, by that time she\n",
      "was walking out the door because she wasn't ready to sit around in the morning and listen to me tell her that ChatGPT is doing what a speech\n",
      "language pathologist does. Do I think it's going\n",
      "to take her job? No. But do I think it has really vast and\n",
      "powerful capabilities that we can tap into\n",
      "with the right patterns? Absolutely. Do I think\n",
      "it gives us the ability to focus on the things that maybe we really want\n",
      "to spend our time on? My wife loves working with kids. She loves interacting\n",
      "with them and trying to understand\n",
      "how to help them. Writing reports,\n",
      "maybe I'm not sure. I don't want to speak\n",
      "too much for my wife, but I would guess it's maybe not her most favorite\n",
      "part of the job. She really loves working with the kids and trying\n",
      "to help the kids. You can imagine something\n",
      "like this where it allows her to focus more on the things that she really cares about in the real-world. Maybe it can help her to\n",
      "give form to her thought around the child's needs\n",
      "and write these reports. I hope that you'll see\n",
      "that with a little bit of the right structure\n",
      "in our prompts, we can create these\n",
      "really powerful ways of giving form to our ideas and our thoughts through large language\n",
      "models like ChatGPT.\n"
     ]
    }
   ],
   "source": [
    "path = \"input.txt\"\n",
    "with open(path) as file:\n",
    "    text = file.read()\n",
    "print(text)"
   ]
  },
  {
   "cell_type": "code",
   "execution_count": 27,
   "metadata": {},
   "outputs": [],
   "source": [
    "# text normalize\n",
    "text = text.replace('\\n',' ')\n",
    "text = text.replace('  ',' ')"
   ]
  },
  {
   "cell_type": "code",
   "execution_count": 22,
   "metadata": {},
   "outputs": [
    {
     "name": "stdout",
     "output_type": "stream",
     "text": [
      "[171, 230, 422, 551, 628, 667, 723, 800, 861, 1015, 1161, 1186, 1300, 1349, 1374, 1505, 1898, 1961, 2046, 2120, 2187, 2277, 2310, 2389, 2435, 2561, 2608, 2696, 2785, 2889, 2911, 2971, 3056, 3123, 3290, 3349, 3405, 3577, 3630, 3762, 3788, 3911, 3971, 4015, 4239, 4449, 4506, 4549, 4654, 4825, 4904, 5020, 5184, 5390, 5589, 5802, 5909, 6120, 6316, 6355, 6359, 6465, 6477, 6583, 6616, 6691, 6728, 6840, 6908, 7039, 7139, 7354]\n"
     ]
    }
   ],
   "source": [
    "end_points = []\n",
    "for i in range(len(text)):\n",
    "    if text[i] in {'.','?','!'}:\n",
    "        end_points.append(i)\n",
    "print(end_points) \n"
   ]
  },
  {
   "cell_type": "code",
   "execution_count": 24,
   "metadata": {},
   "outputs": [
    {
     "name": "stdout",
     "output_type": "stream",
     "text": [
      "393\n"
     ]
    }
   ],
   "source": [
    "min_k = 0\n",
    "for i in range(1,len(end_points)):\n",
    "    d = end_points[i] -end_points[i-1]\n",
    "    if min_k< d:\n",
    "        min_k = d\n",
    "print(min_k)"
   ]
  },
  {
   "cell_type": "code",
   "execution_count": 25,
   "metadata": {},
   "outputs": [
    {
     "name": "stdout",
     "output_type": "stream",
     "text": [
      "[230, 628, 1015, 1374, 1505, 1898, 2277, 2608, 2971, 3349, 3630, 4015, 4239, 4549, 4904, 5184, 5390, 5589, 5909, 6120, 6477, 6840, 7139]\n"
     ]
    }
   ],
   "source": [
    "k = 400 # on text\n",
    "cut_points = []\n",
    "start = 0\n",
    "#end = k\n",
    "for i in range(len(end_points)):\n",
    "    if start + k < end_points[i]:\n",
    "        start = end_points[i-1]\n",
    "        cut_points.append(start)\n",
    "print(cut_points)"
   ]
  },
  {
   "cell_type": "code",
   "execution_count": 30,
   "metadata": {},
   "outputs": [
    {
     "name": "stdout",
     "output_type": "stream",
     "text": [
      "To help you understand why prompt engineer  so important, I'm go to give you an initial example that shows where we tap into really complex capabilities of ChatGPT. But you can also do th with other large language models\n"
     ]
    }
   ],
   "source": [
    "#1\n",
    "lema_dict = {'ran':'run', 'running':'run', 'using': 'use',\n",
    "             'is':'', 'are':'', \"engineering\": 'engineer',\n",
    "             \"going\": 'go'}\n",
    "short_text = text[:cut_points[0]]\n",
    "for word in lema_dict:\n",
    "    short_text = short_text.replace(word, lema_dict[word])\n",
    "print(short_text)"
   ]
  },
  {
   "cell_type": "code",
   "execution_count": 31,
   "metadata": {},
   "outputs": [
    {
     "name": "stdout",
     "output_type": "stream",
     "text": [
      "[\"To help you understand why prompt engineer  so important, I'm go to give you an initial example that shows where we tap into really complex capabilities of ChatGPT\", ' But you can also do th with other large language models']\n"
     ]
    }
   ],
   "source": [
    "#2\n",
    "senctences = short_text.split('.')\n",
    "print(senctences)"
   ]
  },
  {
   "cell_type": "code",
   "execution_count": 33,
   "metadata": {},
   "outputs": [],
   "source": [
    "#normalization\n",
    "text_nor = short_text.lower()\n",
    "special_letters = {'.',',',':','?','-','*','!'}\n",
    "for letter in special_letters:\n",
    "    text_nor = text_nor.replace(letter,' ')\n",
    "text_nor = text_nor.replace(\"n't\", ' not')\n",
    "\n",
    "\n",
    "bag_words = sorted(list(set(text_nor.split())))"
   ]
  },
  {
   "cell_type": "code",
   "execution_count": null,
   "metadata": {},
   "outputs": [],
   "source": [
    "vectors = []\n",
    "for sen in senctences:\n",
    "    tem = [0]*len(bag_words)\n",
    "    "
   ]
  }
 ],
 "metadata": {
  "kernelspec": {
   "display_name": "env-teaching",
   "language": "python",
   "name": "python3"
  },
  "language_info": {
   "codemirror_mode": {
    "name": "ipython",
    "version": 3
   },
   "file_extension": ".py",
   "mimetype": "text/x-python",
   "name": "python",
   "nbconvert_exporter": "python",
   "pygments_lexer": "ipython3",
   "version": "3.11.7"
  }
 },
 "nbformat": 4,
 "nbformat_minor": 2
}
