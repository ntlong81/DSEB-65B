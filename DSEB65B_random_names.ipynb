{
 "cells": [
  {
   "cell_type": "code",
   "execution_count": 9,
   "metadata": {},
   "outputs": [],
   "source": [
    "dseb65b='''Bùi Thị Lan  Anh\n",
    "Nguyễn Thị Mai  Anh\n",
    "Nguyễn Thị Vân  Anh\n",
    "Phạm Đức  Anh\n",
    "Trương Đức  Anh\n",
    "Phạm Thị Ngọc  Ánh\n",
    "Doãn Quốc  Bảo\n",
    "Nguyễn Mạnh  Cường\n",
    "Nguyễn Danh  Dũng\n",
    "Phạm Khánh  Dương\n",
    "Nguyễn Trần Quốc  Đạt\n",
    "Nguyễn Thị Hương  Giang\n",
    "Trần Thu  Hiền\n",
    "Trịnh Minh  Hiếu\n",
    "Đặng Ngọc  Hòa\n",
    "Bùi Huỳnh Gia  Huy\n",
    "Bùi Việt  Huy\n",
    "Đỗ Công  Huy\n",
    "Nguyễn Khánh  Huyền\n",
    "Lê Lan  Hương\n",
    "Nguyễn Văn  Khôi\n",
    "Nguyễn Trần Tuấn  Kiệt\n",
    "Đoàn Tùng  Lâm\n",
    "Đào Khánh  Linh\n",
    "Đỗ Hà  Linh\n",
    "Phạm Khánh  Linh\n",
    "Lý Thành  Long\n",
    "Phạm Thành  Long\n",
    "Hà Quang  Minh\n",
    "Nguyễn Đăng  Minh\n",
    "Nguyễn Thanh  Mơ\n",
    "Phạm Minh Bảo  Ngọc\n",
    "Nguyễn Hồng  Nhung\n",
    "Ngô Hoàng  Phúc\n",
    "Bùi Minh  Phương\n",
    "Nguyễn Thị Hà  Phương\n",
    "Thiều Diệu  Thúy\n",
    "Dương Thị Huyền  Trang\n",
    "Ninh Duy  Tuân\n",
    "Trần Anh  Tuấn\n",
    "Vũ Bùi Đình  Tùng'''\n",
    "name_list = dseb65b.split('\\n')\n",
    "import random"
   ]
  },
  {
   "cell_type": "code",
   "execution_count": 10,
   "metadata": {},
   "outputs": [
    {
     "name": "stdout",
     "output_type": "stream",
     "text": [
      "['Đoàn Tùng  Lâm', 'Doãn Quốc  Bảo']\n"
     ]
    }
   ],
   "source": [
    "print(random.choices(name_list,k=2))"
   ]
  },
  {
   "cell_type": "code",
   "execution_count": null,
   "metadata": {},
   "outputs": [],
   "source": []
  }
 ],
 "metadata": {
  "kernelspec": {
   "display_name": "env-teaching",
   "language": "python",
   "name": "python3"
  },
  "language_info": {
   "codemirror_mode": {
    "name": "ipython",
    "version": 3
   },
   "file_extension": ".py",
   "mimetype": "text/x-python",
   "name": "python",
   "nbconvert_exporter": "python",
   "pygments_lexer": "ipython3",
   "version": "3.11.7"
  }
 },
 "nbformat": 4,
 "nbformat_minor": 2
}
