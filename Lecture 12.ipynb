{
 "cells": [
  {
   "cell_type": "markdown",
   "metadata": {},
   "source": [
    "## Lecture 12"
   ]
  },
  {
   "cell_type": "code",
   "execution_count": null,
   "metadata": {},
   "outputs": [],
   "source": [
    "with open('pi_digits.txt') as file:\n",
    "    pi1 = file.readlines()\n",
    "#print(pi)\n",
    "print(pi1)"
   ]
  },
  {
   "cell_type": "code",
   "execution_count": null,
   "metadata": {},
   "outputs": [],
   "source": [
    "path = r'D:\\CODE\\Python4DS\\DSEB65B\\DSEB-65B\\pi_digits.txt'\n",
    "with open(path) as file:\n",
    "    pi2 = file.read()\n",
    "print(pi2)\n"
   ]
  },
  {
   "cell_type": "code",
   "execution_count": null,
   "metadata": {},
   "outputs": [],
   "source": [
    "with open(r'D:\\CODE\\Python4DS\\DSEB65B\\DSEB-65B\\text_file\\hello.txt') as file:\n",
    "    content = file.read()\n",
    "print(content)"
   ]
  },
  {
   "cell_type": "code",
   "execution_count": null,
   "metadata": {},
   "outputs": [],
   "source": [
    "with open(r'text_file\\hello.txt') as file:\n",
    "    content = file.read()\n",
    "print(content)"
   ]
  },
  {
   "cell_type": "code",
   "execution_count": null,
   "metadata": {},
   "outputs": [],
   "source": [
    "path = r'D:\\CODE\\Python4DS\\DSEB65B\\DSEB-65B\\pi_digits.txt'\n",
    "with open(path) as file:\n",
    "    for pi2 in file:\n",
    "        print(pi2)\n"
   ]
  },
  {
   "cell_type": "code",
   "execution_count": 11,
   "metadata": {},
   "outputs": [],
   "source": [
    "def is_birthday_in_pi(birthday):\n",
    "    return birthday in pi_million"
   ]
  },
  {
   "cell_type": "code",
   "execution_count": null,
   "metadata": {},
   "outputs": [],
   "source": [
    "with open('text_file/pi_million_digits.txt') as f:\n",
    "    pi_million = f.read()\n",
    "is_birthday_in_pi('1812')"
   ]
  },
  {
   "cell_type": "markdown",
   "metadata": {},
   "source": [
    "10-1. Learning Python: Open a blank file in your text editor and write a few\n",
    "lines summarizing what you’ve learned about Python so far. Start each line\n",
    "with the phrase In Python you can. . . . Save the file as learning_python.txt in\n",
    "the same directory as your exercises from this chapter. Write a program that\n",
    "reads the file and prints what you wrote three times. Print the contents once by\n",
    "reading in the entire file, once by looping over the file object, and once by storing the lines in a list and then working with them outside the with block.\n"
   ]
  },
  {
   "cell_type": "code",
   "execution_count": null,
   "metadata": {},
   "outputs": [],
   "source": [
    "with open('learning_python.txt') as f:\n",
    "    text = f.read()\n",
    "print(text)\n",
    "print(text)\n",
    "print(text)"
   ]
  },
  {
   "cell_type": "code",
   "execution_count": null,
   "metadata": {},
   "outputs": [],
   "source": [
    "path = 'learning_python.txt'\n",
    "with open(path) as file:\n",
    "    for line in file:\n",
    "        print(line)"
   ]
  },
  {
   "cell_type": "markdown",
   "metadata": {},
   "source": [
    "\n",
    "10-2. Learning C: You can use the replace() method to replace any word in a\n",
    "string with a different word. Here’s a quick example showing how to replace\n",
    "'dog' with 'cat' in a sentence:\n",
    ">>> message = \"I really like dogs.\"\n",
    ">>> message.replace('dog', 'cat')\n",
    "'I really like cats.'\n",
    "Read in each line from the file you just created, learning_python.txt, and\n",
    "replace the word Python with the name of another language, such as C. Print\n",
    "each modified line to the scree"
   ]
  },
  {
   "cell_type": "code",
   "execution_count": null,
   "metadata": {},
   "outputs": [],
   "source": [
    "with open('learning_python.txt') as f:\n",
    "    text = f.read()\n",
    "text1 = text.replace('Python', 'C')\n",
    "print(text1)"
   ]
  },
  {
   "cell_type": "code",
   "execution_count": null,
   "metadata": {},
   "outputs": [],
   "source": [
    "with open('learning_python1.txt','w') as file:\n",
    "    file.write('Python is an easy programming')\n",
    "with open('learning_python.txt') as file:\n",
    "    content = file.read()\n",
    "print(content)\n"
   ]
  },
  {
   "cell_type": "code",
   "execution_count": null,
   "metadata": {},
   "outputs": [],
   "source": [
    "with open('learning_python1.txt','a') as file:\n",
    "    file.write('\\n Python is an easy programming')\n",
    "with open('learning_python1.txt') as file:\n",
    "    content = file.read()\n",
    "print(content)\n"
   ]
  },
  {
   "cell_type": "code",
   "execution_count": null,
   "metadata": {},
   "outputs": [],
   "source": [
    "with open('learning_python.txt','w') as file:\n",
    "    file.write('1. Python is an easy programming\\n')\n",
    "    file.write('2. Python is an easy programming\\n')\n",
    "    file.write('3. Python is an easy programming\\n')\n",
    "with open('learning_python.txt') as file:\n",
    "    content = file.read()\n",
    "print(content)\n"
   ]
  },
  {
   "cell_type": "code",
   "execution_count": null,
   "metadata": {},
   "outputs": [],
   "source": [
    "with open('learning_python.txt','a') as file:\n",
    "    file.write('4. Python is an easy programming\\n')\n",
    "    file.write('5. Python is an easy programming\\n')\n",
    "    file.write('6. Python is an easy programming\\n')\n",
    "with open('learning_python.txt') as file:\n",
    "    content = file.read()\n",
    "print(content)\n"
   ]
  },
  {
   "cell_type": "markdown",
   "metadata": {},
   "source": [
    "10-3. Guest: Write a program that prompts the user for their name. When they\n",
    "respond, write their name to a file called guest.txt.\n"
   ]
  },
  {
   "cell_type": "code",
   "execution_count": null,
   "metadata": {},
   "outputs": [],
   "source": [
    "name = input('viet ten:')\n",
    "with open('guest.txt','a') as file:\n",
    "    guest = file.write(name)\n",
    "with open('guest.txt') as file:\n",
    "    doc = file.read()\n",
    "print(doc)\n",
    "\n",
    "    "
   ]
  },
  {
   "cell_type": "markdown",
   "metadata": {},
   "source": [
    "10-4. Guest Book: Write a while loop that prompts users for their name. When\n",
    "they enter their name, print a greeting to the screen and add a line recording\n",
    "their visit in a file called guest_book.txt. Make sure each entry appears on a\n",
    "new line in the file.\n"
   ]
  },
  {
   "cell_type": "code",
   "execution_count": 33,
   "metadata": {},
   "outputs": [
    {
     "ename": "SyntaxError",
     "evalue": "invalid syntax. Maybe you meant '==' or ':=' instead of '='? (453890955.py, line 2)",
     "output_type": "error",
     "traceback": [
      "\u001b[1;36m  Cell \u001b[1;32mIn[33], line 2\u001b[1;36m\u001b[0m\n\u001b[1;33m    while name = str(input()):\u001b[0m\n\u001b[1;37m          ^\u001b[0m\n\u001b[1;31mSyntaxError\u001b[0m\u001b[1;31m:\u001b[0m invalid syntax. Maybe you meant '==' or ':=' instead of '='?\n"
     ]
    }
   ],
   "source": [
    "name = input()\n",
    "name2 = f'Welcome sir/miss{name}'\n",
    "while name:\n",
    "    print(name2)\n",
    "with open('guest_book.txt','a') as file:\n",
    "    guest.write(name2)\n",
    "with open('guest_book.txt') as file:\n",
    "    doc = file.read()\n",
    "print(doc)\n"
   ]
  },
  {
   "cell_type": "markdown",
   "metadata": {},
   "source": [
    "10-5. Programming Poll: Write a while loop that asks people why they like\n",
    "programming. Each time someone enters a reason, add their reason to a file\n",
    "that stores all the responses."
   ]
  },
  {
   "cell_type": "markdown",
   "metadata": {},
   "source": []
  },
  {
   "cell_type": "code",
   "execution_count": 39,
   "metadata": {},
   "outputs": [
    {
     "name": "stdout",
     "output_type": "stream",
     "text": [
      "['Dung', 'Huy', 'Dat', '0']\n"
     ]
    }
   ],
   "source": [
    "reason = []\n",
    "while True:\n",
    "    r = input()\n",
    "    reason.append(r)\n",
    "    if r == '0':\n",
    "        break\n",
    "with open('guest_book.txt','a') as file:\n",
    "    file.write(str(reason))\n",
    "with open('guest_book.txt') as file:\n",
    "    doc = file.read()\n",
    "print(doc)\n",
    "                 \n",
    "    "
   ]
  },
  {
   "cell_type": "code",
   "execution_count": null,
   "metadata": {},
   "outputs": [],
   "source": []
  }
 ],
 "metadata": {
  "kernelspec": {
   "display_name": "env-teaching",
   "language": "python",
   "name": "python3"
  },
  "language_info": {
   "codemirror_mode": {
    "name": "ipython",
    "version": 3
   },
   "file_extension": ".py",
   "mimetype": "text/x-python",
   "name": "python",
   "nbconvert_exporter": "python",
   "pygments_lexer": "ipython3",
   "version": "3.11.7"
  }
 },
 "nbformat": 4,
 "nbformat_minor": 2
}
