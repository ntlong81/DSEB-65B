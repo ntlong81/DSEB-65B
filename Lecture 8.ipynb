{
 "cells": [
  {
   "cell_type": "markdown",
   "metadata": {},
   "source": [
    "## Lecture 8\n",
    "\n",
    "### Functions"
   ]
  },
  {
   "cell_type": "code",
   "execution_count": 2,
   "metadata": {},
   "outputs": [],
   "source": [
    "def greet_user():\n",
    "    '''docstring'''\n",
    "    print('Hello user')"
   ]
  },
  {
   "cell_type": "code",
   "execution_count": 3,
   "metadata": {},
   "outputs": [
    {
     "name": "stdout",
     "output_type": "stream",
     "text": [
      "Hello user\n"
     ]
    }
   ],
   "source": [
    "greet_user()"
   ]
  },
  {
   "cell_type": "code",
   "execution_count": 4,
   "metadata": {},
   "outputs": [],
   "source": [
    "def greet_user(name):\n",
    "    '''docstring'''\n",
    "    print(f'Hello {name}')"
   ]
  },
  {
   "cell_type": "code",
   "execution_count": 6,
   "metadata": {},
   "outputs": [
    {
     "name": "stdout",
     "output_type": "stream",
     "text": [
      "Hello Mai\n"
     ]
    }
   ],
   "source": [
    "greet_user('Mai')"
   ]
  },
  {
   "cell_type": "code",
   "execution_count": 7,
   "metadata": {},
   "outputs": [],
   "source": [
    "letters_fre = {'a':6,'b':3,'c':1}"
   ]
  },
  {
   "cell_type": "code",
   "execution_count": 9,
   "metadata": {},
   "outputs": [
    {
     "data": {
      "text/plain": [
       "['c', 'b', 'a']"
      ]
     },
     "execution_count": 9,
     "metadata": {},
     "output_type": "execute_result"
    }
   ],
   "source": [
    "sorted(letters_fre,reverse=True)"
   ]
  },
  {
   "cell_type": "code",
   "execution_count": 11,
   "metadata": {},
   "outputs": [],
   "source": [
    "def power(a,b=1):\n",
    "    print(a**b)"
   ]
  },
  {
   "cell_type": "code",
   "execution_count": 13,
   "metadata": {},
   "outputs": [
    {
     "name": "stdout",
     "output_type": "stream",
     "text": [
      "100\n"
     ]
    }
   ],
   "source": [
    "power(10, b=2)"
   ]
  },
  {
   "cell_type": "markdown",
   "metadata": {},
   "source": [
    "**8-3. T-Shirt:** Write a function called make_shirt() that accepts a size and the\n",
    "text of a message that should be printed on the shirt. The function should print\n",
    "a sentence summarizing the size of the shirt and the message printed on it.\n",
    "Call the function once using positional arguments to make a shirt. Call the\n",
    "function a second time using keyword arguments.\n"
   ]
  },
  {
   "cell_type": "code",
   "execution_count": 16,
   "metadata": {},
   "outputs": [
    {
     "name": "stdout",
     "output_type": "stream",
     "text": [
      "size shirt:41,text: duong \n",
      "size shirt:42,text: duong \n"
     ]
    }
   ],
   "source": [
    "def make_shirt(size,text):\n",
    "    print(f\"size shirt:{size},text: {text} \")\n",
    "make_shirt(41,'duong')\n",
    "make_shirt(size = 42, text = 'duong')"
   ]
  },
  {
   "cell_type": "markdown",
   "metadata": {},
   "source": []
  },
  {
   "cell_type": "markdown",
   "metadata": {},
   "source": [
    "\n",
    "**8-4. Large Shirts:** Modify the make_shirt() function so that shirts are large\n",
    "by default with a message that reads I love Python. Make a large shirt and a\n",
    "medium shirt with the default message, and a shirt of any size with a different\n",
    "message.\n"
   ]
  },
  {
   "cell_type": "code",
   "execution_count": 18,
   "metadata": {},
   "outputs": [
    {
     "name": "stdout",
     "output_type": "stream",
     "text": [
      "size shirt:large,text: duong \n",
      "size shirt:42,text: duong \n"
     ]
    }
   ],
   "source": [
    "def make_shirt(text ,size = 'large'):\n",
    "    print(f\"size shirt:{size},text: {text} \")\n",
    "make_shirt('duong')\n",
    "make_shirt(size = 42, text = 'duong')"
   ]
  },
  {
   "cell_type": "markdown",
   "metadata": {},
   "source": [
    "\n",
    "**8-5. Cities:** Write a function called describe_city() that accepts the name of\n",
    "a city and its country. The function should print a simple sentence, such as\n",
    "Reykjavik is in Iceland. Give the parameter for the country a default value.\n",
    "Call your function for three different cities, at least one of which is not in the\n",
    "default country"
   ]
  },
  {
   "cell_type": "code",
   "execution_count": 22,
   "metadata": {},
   "outputs": [
    {
     "name": "stdout",
     "output_type": "stream",
     "text": [
      "Ha Noi is in Viet Nam\n",
      "Da Nang is in Viet Nam\n",
      "Ho Chi Minh is in  Viet Nam\n"
     ]
    }
   ],
   "source": [
    "def descrie_city(name,country):\n",
    "    print(f\"{name.title()} is in {country.title()}\")\n",
    "descrie_city(name =  'ha Noi',country='viet nam')\n",
    "descrie_city(name = 'da nang', country = 'viet nam')\n",
    "descrie_city(name = 'ho chi minh', country = ' viet nam')"
   ]
  },
  {
   "cell_type": "code",
   "execution_count": 23,
   "metadata": {},
   "outputs": [
    {
     "name": "stdout",
     "output_type": "stream",
     "text": [
      "Ho Chi Minh is in  Viet Nam\n",
      "None\n"
     ]
    }
   ],
   "source": [
    "print(descrie_city(name = 'ho chi minh', country = ' viet nam'))"
   ]
  },
  {
   "cell_type": "code",
   "execution_count": 24,
   "metadata": {},
   "outputs": [],
   "source": [
    "def power(a,b):\n",
    "    return a**b "
   ]
  },
  {
   "cell_type": "code",
   "execution_count": 26,
   "metadata": {},
   "outputs": [
    {
     "name": "stdout",
     "output_type": "stream",
     "text": [
      "32\n"
     ]
    }
   ],
   "source": [
    "x = power(2,5)\n",
    "print(x)"
   ]
  },
  {
   "cell_type": "code",
   "execution_count": 31,
   "metadata": {},
   "outputs": [],
   "source": [
    "def is_prime(n):\n",
    "    if n<=1:\n",
    "        return False\n",
    "    else:\n",
    "        for d in range(2,int(n**0.5)+1):\n",
    "            if n%d==0:\n",
    "                return False\n",
    "    return True  "
   ]
  },
  {
   "cell_type": "code",
   "execution_count": 32,
   "metadata": {},
   "outputs": [],
   "source": [
    "def is_prime1(n):\n",
    "    if n<=1:\n",
    "        return False\n",
    "    else:\n",
    "        for d in range(2,n):\n",
    "            if n%d==0:\n",
    "                return False\n",
    "    return True  "
   ]
  },
  {
   "cell_type": "code",
   "execution_count": 33,
   "metadata": {},
   "outputs": [
    {
     "data": {
      "text/plain": [
       "True"
      ]
     },
     "execution_count": 33,
     "metadata": {},
     "output_type": "execute_result"
    }
   ],
   "source": [
    "is_prime(1196569796579)"
   ]
  },
  {
   "cell_type": "code",
   "execution_count": 35,
   "metadata": {},
   "outputs": [],
   "source": [
    "import re\n",
    "def text_normalize(text, lower = True):\n",
    "    if lower:\n",
    "        text_nor = text.lower()\n",
    "    else:\n",
    "        text_nor = text\n",
    "    text_nor = re.sub('\\W+',' ',text_nor)\n",
    "    return text_nor \n",
    "     "
   ]
  },
  {
   "cell_type": "code",
   "execution_count": 36,
   "metadata": {},
   "outputs": [
    {
     "name": "stdout",
     "output_type": "stream",
     "text": [
      "The Zen of Python, by Tim Peters\n",
      "\n",
      "Beautiful is better than ugly.\n",
      "Explicit is better than implicit.\n",
      "Simple is better than complex.\n",
      "Complex is better than complicated.\n",
      "Flat is better than nested.\n",
      "Sparse is better than dense.\n",
      "Readability counts.\n",
      "Special cases aren't special enough to break the rules.\n",
      "Although practicality beats purity.\n",
      "Errors should never pass silently.\n",
      "Unless explicitly silenced.\n",
      "In the face of ambiguity, refuse the temptation to guess.\n",
      "There should be one-- and preferably only one --obvious way to do it.\n",
      "Although that way may not be obvious at first unless you're Dutch.\n",
      "Now is better than never.\n",
      "Although never is often better than *right* now.\n",
      "If the implementation is hard to explain, it's a bad idea.\n",
      "If the implementation is easy to explain, it may be a good idea.\n",
      "Namespaces are one honking great idea -- let's do more of those!\n"
     ]
    }
   ],
   "source": [
    "import this"
   ]
  },
  {
   "cell_type": "code",
   "execution_count": 37,
   "metadata": {},
   "outputs": [],
   "source": [
    "text = '''\n",
    "The Zen of Python, by Tim Peters\n",
    "\n",
    "Beautiful is better than ugly.\n",
    "Explicit is better than implicit.\n",
    "Simple is better than complex.\n",
    "Complex is better than complicated.\n",
    "Flat is better than nested.\n",
    "Sparse is better than dense.\n",
    "Readability counts.\n",
    "Special cases aren't special enough to break the rules.\n",
    "Although practicality beats purity.\n",
    "Errors should never pass silently.\n",
    "Unless explicitly silenced.\n",
    "In the face of ambiguity, refuse the temptation to guess.\n",
    "There should be one-- and preferably only one --obvious way to do it.\n",
    "Although that way may not be obvious at first unless you're Dutch.\n",
    "Now is better than never.\n",
    "Although never is often better than *right* now.\n",
    "If the implementation is hard to explain, it's a bad idea.\n",
    "If the implementation is easy to explain, it may be a good idea.\n",
    "Namespaces are one honking great idea -- let's do more of those!\n",
    "'''"
   ]
  },
  {
   "cell_type": "code",
   "execution_count": 38,
   "metadata": {},
   "outputs": [
    {
     "data": {
      "text/plain": [
       "' the zen of python by tim peters beautiful is better than ugly explicit is better than implicit simple is better than complex complex is better than complicated flat is better than nested sparse is better than dense readability counts special cases aren t special enough to break the rules although practicality beats purity errors should never pass silently unless explicitly silenced in the face of ambiguity refuse the temptation to guess there should be one and preferably only one obvious way to do it although that way may not be obvious at first unless you re dutch now is better than never although never is often better than right now if the implementation is hard to explain it s a bad idea if the implementation is easy to explain it may be a good idea namespaces are one honking great idea let s do more of those '"
      ]
     },
     "execution_count": 38,
     "metadata": {},
     "output_type": "execute_result"
    }
   ],
   "source": [
    "text_normalize(text)"
   ]
  },
  {
   "cell_type": "code",
   "execution_count": 39,
   "metadata": {},
   "outputs": [],
   "source": [
    "def count_words(text):\n",
    "    text_nor = text_normalize(text)\n",
    "    fre_dict ={}\n",
    "    for word in text_nor.split():\n",
    "        if word in fre_dict:\n",
    "            fre_dict[word] += 1\n",
    "        else:\n",
    "            fre_dict[word] = 1\n",
    "    return fre_dict\n",
    "\n"
   ]
  },
  {
   "cell_type": "code",
   "execution_count": 40,
   "metadata": {},
   "outputs": [
    {
     "data": {
      "text/plain": [
       "{'the': 6,\n",
       " 'zen': 1,\n",
       " 'of': 3,\n",
       " 'python': 1,\n",
       " 'by': 1,\n",
       " 'tim': 1,\n",
       " 'peters': 1,\n",
       " 'beautiful': 1,\n",
       " 'is': 10,\n",
       " 'better': 8,\n",
       " 'than': 8,\n",
       " 'ugly': 1,\n",
       " 'explicit': 1,\n",
       " 'implicit': 1,\n",
       " 'simple': 1,\n",
       " 'complex': 2,\n",
       " 'complicated': 1,\n",
       " 'flat': 1,\n",
       " 'nested': 1,\n",
       " 'sparse': 1,\n",
       " 'dense': 1,\n",
       " 'readability': 1,\n",
       " 'counts': 1,\n",
       " 'special': 2,\n",
       " 'cases': 1,\n",
       " 'aren': 1,\n",
       " 't': 1,\n",
       " 'enough': 1,\n",
       " 'to': 5,\n",
       " 'break': 1,\n",
       " 'rules': 1,\n",
       " 'although': 3,\n",
       " 'practicality': 1,\n",
       " 'beats': 1,\n",
       " 'purity': 1,\n",
       " 'errors': 1,\n",
       " 'should': 2,\n",
       " 'never': 3,\n",
       " 'pass': 1,\n",
       " 'silently': 1,\n",
       " 'unless': 2,\n",
       " 'explicitly': 1,\n",
       " 'silenced': 1,\n",
       " 'in': 1,\n",
       " 'face': 1,\n",
       " 'ambiguity': 1,\n",
       " 'refuse': 1,\n",
       " 'temptation': 1,\n",
       " 'guess': 1,\n",
       " 'there': 1,\n",
       " 'be': 3,\n",
       " 'one': 3,\n",
       " 'and': 1,\n",
       " 'preferably': 1,\n",
       " 'only': 1,\n",
       " 'obvious': 2,\n",
       " 'way': 2,\n",
       " 'do': 2,\n",
       " 'it': 3,\n",
       " 'that': 1,\n",
       " 'may': 2,\n",
       " 'not': 1,\n",
       " 'at': 1,\n",
       " 'first': 1,\n",
       " 'you': 1,\n",
       " 're': 1,\n",
       " 'dutch': 1,\n",
       " 'now': 2,\n",
       " 'often': 1,\n",
       " 'right': 1,\n",
       " 'if': 2,\n",
       " 'implementation': 2,\n",
       " 'hard': 1,\n",
       " 'explain': 2,\n",
       " 's': 2,\n",
       " 'a': 2,\n",
       " 'bad': 1,\n",
       " 'idea': 3,\n",
       " 'easy': 1,\n",
       " 'good': 1,\n",
       " 'namespaces': 1,\n",
       " 'are': 1,\n",
       " 'honking': 1,\n",
       " 'great': 1,\n",
       " 'let': 1,\n",
       " 'more': 1,\n",
       " 'those': 1}"
      ]
     },
     "execution_count": 40,
     "metadata": {},
     "output_type": "execute_result"
    }
   ],
   "source": [
    "count_words(text)"
   ]
  },
  {
   "cell_type": "code",
   "execution_count": 46,
   "metadata": {},
   "outputs": [],
   "source": [
    "def get_topk(fre_words, k=5):\n",
    "    key_topk = sorted(fre_words, \n",
    "                      reverse= True, \n",
    "                      key = lambda x:fre_words[x])[:k]\n",
    "    topk = [(key, fre_words[key]) for key in key_topk]\n",
    "    return topk "
   ]
  },
  {
   "cell_type": "code",
   "execution_count": 47,
   "metadata": {},
   "outputs": [
    {
     "data": {
      "text/plain": [
       "[('is', 10), ('better', 8), ('than', 8), ('the', 6), ('to', 5)]"
      ]
     },
     "execution_count": 47,
     "metadata": {},
     "output_type": "execute_result"
    }
   ],
   "source": [
    "fre_words = count_words(text)\n",
    "get_topk(fre_words)"
   ]
  },
  {
   "cell_type": "code",
   "execution_count": 65,
   "metadata": {},
   "outputs": [],
   "source": [
    "import re \n",
    "def split_chunk(text, size = 1000):\n",
    "    re.findall('[.!?]',text)\n",
    "    pass \n"
   ]
  },
  {
   "cell_type": "code",
   "execution_count": 68,
   "metadata": {},
   "outputs": [],
   "source": [
    "lambda_function = lambda x: x**2"
   ]
  },
  {
   "cell_type": "code",
   "execution_count": 69,
   "metadata": {},
   "outputs": [
    {
     "data": {
      "text/plain": [
       "1156"
      ]
     },
     "execution_count": 69,
     "metadata": {},
     "output_type": "execute_result"
    }
   ],
   "source": [
    "lambda_function(34)"
   ]
  },
  {
   "cell_type": "code",
   "execution_count": null,
   "metadata": {},
   "outputs": [],
   "source": [
    "#map\n",
    "#reduce"
   ]
  }
 ],
 "metadata": {
  "kernelspec": {
   "display_name": "env-teaching",
   "language": "python",
   "name": "python3"
  },
  "language_info": {
   "codemirror_mode": {
    "name": "ipython",
    "version": 3
   },
   "file_extension": ".py",
   "mimetype": "text/x-python",
   "name": "python",
   "nbconvert_exporter": "python",
   "pygments_lexer": "ipython3",
   "version": "3.11.7"
  }
 },
 "nbformat": 4,
 "nbformat_minor": 2
}
