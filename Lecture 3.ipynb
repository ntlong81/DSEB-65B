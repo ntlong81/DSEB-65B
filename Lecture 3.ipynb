{
 "cells": [
  {
   "cell_type": "markdown",
   "metadata": {},
   "source": [
    "## Lecture 3"
   ]
  },
  {
   "cell_type": "code",
   "execution_count": 44,
   "metadata": {},
   "outputs": [
    {
     "name": "stdout",
     "output_type": "stream",
     "text": [
      "\n",
      "Bùi Việt  Huy\n"
     ]
    }
   ],
   "source": [
    "dseb65b='''\n",
    "Bùi Thị Lan  Anh,\n",
    "Nguyễn Thị Mai  Anh,\n",
    "Nguyễn Thị Vân  Anh,\n",
    "Phạm Đức  Anh,\n",
    "Trương Đức  Anh,\n",
    "Phạm Thị Ngọc  Ánh,\n",
    "Doãn Quốc  Bảo,\n",
    "Nguyễn Mạnh  Cường,\n",
    "Nguyễn Danh  Dũng,\n",
    "Phạm Khánh  Dương,\n",
    "Nguyễn Trần Quốc  Đạt,\n",
    "Nguyễn Thị Hương  Giang,\n",
    "Trần Thu  Hiền,\n",
    "Trịnh Minh  Hiếu,\n",
    "Đặng Ngọc  Hòa,\n",
    "Bùi Huỳnh Gia  Huy,\n",
    "Bùi Việt  Huy,\n",
    "Đỗ Công  Huy,\n",
    "Nguyễn Khánh  Huyền,\n",
    "Lê Lan  Hương,\n",
    "Nguyễn Văn  Khôi,\n",
    "Nguyễn Trần Tuấn  Kiệt,\n",
    "Đoàn Tùng  Lâm,\n",
    "Đào Khánh  Linh,\n",
    "Đỗ Hà  Linh,\n",
    "Phạm Khánh  Linh,\n",
    "Lý Thành  Long,\n",
    "Phạm Thành  Long,\n",
    "Hà Quang  Minh,\n",
    "Nguyễn Đăng  Minh,\n",
    "Nguyễn Thanh  Mơ,\n",
    "Phạm Minh Bảo  Ngọc,\n",
    "Nguyễn Hồng  Nhung,\n",
    "Ngô Hoàng  Phúc,\n",
    "Bùi Minh  Phương,\n",
    "Nguyễn Thị Hà  Phương,\n",
    "Thiều Diệu  Thúy,\n",
    "Dương Thị Huyền  Trang,\n",
    "Ninh Duy  Tuân,\n",
    "Trần Anh  Tuấn,\n",
    "Vũ Bùi Đình  Tùng\n",
    "'''\n",
    "dseb65b = dseb65b.replace(r'\\n',' ')\n",
    "name_list = dseb65b.split(',')\n",
    "import random\n",
    "print(random.choice(name_list))"
   ]
  },
  {
   "cell_type": "code",
   "execution_count": 1,
   "metadata": {},
   "outputs": [
    {
     "name": "stdout",
     "output_type": "stream",
     "text": [
      "[1, 2, 3, 4, 5, 6, 7, 8, 9, 10]\n"
     ]
    }
   ],
   "source": [
    "digits = list(range(1,11))\n",
    "print(digits)"
   ]
  },
  {
   "cell_type": "code",
   "execution_count": 2,
   "metadata": {},
   "outputs": [
    {
     "data": {
      "text/plain": [
       "[1, 2, 3, 4, 5]"
      ]
     },
     "execution_count": 2,
     "metadata": {},
     "output_type": "execute_result"
    }
   ],
   "source": [
    "digits[:5]"
   ]
  },
  {
   "cell_type": "code",
   "execution_count": 5,
   "metadata": {},
   "outputs": [
    {
     "data": {
      "text/plain": [
       "[10, 9, 8, 7, 6, 5, 4, 3, 2, 1]"
      ]
     },
     "execution_count": 5,
     "metadata": {},
     "output_type": "execute_result"
    }
   ],
   "source": [
    "digits[::-1]"
   ]
  },
  {
   "cell_type": "code",
   "execution_count": 7,
   "metadata": {},
   "outputs": [
    {
     "data": {
      "text/plain": [
       "'hon'"
      ]
     },
     "execution_count": 7,
     "metadata": {},
     "output_type": "execute_result"
    }
   ],
   "source": [
    "\"hello python\"[-3:]"
   ]
  },
  {
   "cell_type": "code",
   "execution_count": 8,
   "metadata": {},
   "outputs": [
    {
     "data": {
      "text/plain": [
       "True"
      ]
     },
     "execution_count": 8,
     "metadata": {},
     "output_type": "execute_result"
    }
   ],
   "source": [
    "a = [1,2,1]\n",
    "a[::-1] == a "
   ]
  },
  {
   "cell_type": "code",
   "execution_count": 10,
   "metadata": {},
   "outputs": [
    {
     "data": {
      "text/plain": [
       "False"
      ]
     },
     "execution_count": 10,
     "metadata": {},
     "output_type": "execute_result"
    }
   ],
   "source": [
    "mess = 'Hello python'\n",
    "mess[::-1] == mess"
   ]
  },
  {
   "cell_type": "code",
   "execution_count": 11,
   "metadata": {},
   "outputs": [
    {
     "data": {
      "text/plain": [
       "[1, 2, 3, 4, 5, 6, 7, 8, 9, 10]"
      ]
     },
     "execution_count": 11,
     "metadata": {},
     "output_type": "execute_result"
    }
   ],
   "source": [
    "digits"
   ]
  },
  {
   "cell_type": "code",
   "execution_count": 15,
   "metadata": {},
   "outputs": [
    {
     "name": "stdout",
     "output_type": "stream",
     "text": [
      "[[1, 2, 'changed'], 3, 4, 5]\n",
      "[[1, 2, 'changed'], 3, 4, 'changed']\n"
     ]
    }
   ],
   "source": [
    "#shallow copy\n",
    "alist = [[1,2,3],3,4,5]\n",
    "blist = alist[:]\n",
    "blist[0][2] = 'changed'\n",
    "blist[-1] = 'changed'\n",
    "print(alist)\n",
    "print(blist)"
   ]
  },
  {
   "cell_type": "code",
   "execution_count": 18,
   "metadata": {},
   "outputs": [
    {
     "name": "stdout",
     "output_type": "stream",
     "text": [
      "[[1, 2, 3], 3, 4, 5]\n",
      "[[1, 2, 'changed'], 3, 4, 'changed']\n"
     ]
    }
   ],
   "source": [
    "#Deep copy\n",
    "import copy\n",
    "alist = [[1,2,3],3,4,5]\n",
    "blist = copy.deepcopy(alist)\n",
    "blist[0][2] = 'changed'\n",
    "blist[-1] = 'changed'\n",
    "print(alist)\n",
    "print(blist)"
   ]
  },
  {
   "cell_type": "code",
   "execution_count": 25,
   "metadata": {},
   "outputs": [
    {
     "name": "stdout",
     "output_type": "stream",
     "text": [
      "The first three items in the list are:\n",
      "[1, 2, 3]\n",
      "Three items from the middle of the list are:\n",
      "[5, 6, 7]\n",
      "The last three items in the list are:\n",
      "[8, 9, 10]\n"
     ]
    }
   ],
   "source": [
    "#4.10\n",
    "numbers =[1, 2, 3, 4, 5, 6, 7, 8, 9, 10]\n",
    "print('The first three items in the list are:')\n",
    "print(numbers[:3])\n",
    "\n",
    "middle = len(numbers)//2\n",
    "print('Three items from the middle of the list are:')\n",
    "print(numbers[middle-1 : middle+2])\n",
    "\n",
    "print('The last three items in the list are:')\n",
    "print(numbers[-3:])\n",
    "\n",
    "\n",
    "\n",
    "\n"
   ]
  },
  {
   "cell_type": "code",
   "execution_count": 27,
   "metadata": {},
   "outputs": [
    {
     "name": "stdout",
     "output_type": "stream",
     "text": [
      "['giang', 'jerry', 'dat', 'ngoc']\n",
      "My favorite pizzas are: ['giang', 'jerry', 'dat', 'ngoc']\n",
      "My friend's favortie pizza are: ['giang', 'jerry', 'dat', 'ngoc', 'hien']\n"
     ]
    }
   ],
   "source": [
    "#4.11\n",
    "pizzas = ['giang', 'jerry','dat']\n",
    "pizzas.append('ngoc')\n",
    "print(pizzas)\n",
    "\n",
    "friend_pizzas = pizzas[:]\n",
    "friend_pizzas.append('hien')\n",
    "\n",
    "\n",
    "print(f'My favorite pizzas are: {[i for i in pizzas]}')\n",
    "print(f\"My friend's favortie pizza are: {[i for i in friend_pizzas]}\")\n",
    "    "
   ]
  },
  {
   "cell_type": "code",
   "execution_count": 28,
   "metadata": {},
   "outputs": [
    {
     "data": {
      "text/plain": [
       "('h', 'e', 'l', 'l', 'o')"
      ]
     },
     "execution_count": 28,
     "metadata": {},
     "output_type": "execute_result"
    }
   ],
   "source": [
    "tuple(\"hello\")"
   ]
  },
  {
   "cell_type": "code",
   "execution_count": 29,
   "metadata": {},
   "outputs": [
    {
     "data": {
      "text/plain": [
       "{'e', 'h', 'l', 'o'}"
      ]
     },
     "execution_count": 29,
     "metadata": {},
     "output_type": "execute_result"
    }
   ],
   "source": [
    "set('hello')"
   ]
  },
  {
   "cell_type": "code",
   "execution_count": 30,
   "metadata": {},
   "outputs": [
    {
     "name": "stdout",
     "output_type": "stream",
     "text": [
      "The Zen of Python, by Tim Peters\n",
      "\n",
      "Beautiful is better than ugly.\n",
      "Explicit is better than implicit.\n",
      "Simple is better than complex.\n",
      "Complex is better than complicated.\n",
      "Flat is better than nested.\n",
      "Sparse is better than dense.\n",
      "Readability counts.\n",
      "Special cases aren't special enough to break the rules.\n",
      "Although practicality beats purity.\n",
      "Errors should never pass silently.\n",
      "Unless explicitly silenced.\n",
      "In the face of ambiguity, refuse the temptation to guess.\n",
      "There should be one-- and preferably only one --obvious way to do it.\n",
      "Although that way may not be obvious at first unless you're Dutch.\n",
      "Now is better than never.\n",
      "Although never is often better than *right* now.\n",
      "If the implementation is hard to explain, it's a bad idea.\n",
      "If the implementation is easy to explain, it may be a good idea.\n",
      "Namespaces are one honking great idea -- let's do more of those!\n"
     ]
    }
   ],
   "source": [
    "import this "
   ]
  },
  {
   "cell_type": "code",
   "execution_count": 31,
   "metadata": {},
   "outputs": [],
   "source": [
    "text = '''\n",
    "The Zen of Python, by Tim Peters\n",
    "\n",
    "Beautiful is better than ugly.\n",
    "Explicit is better than implicit.\n",
    "Simple is better than complex.\n",
    "Complex is better than complicated.\n",
    "Flat is better than nested.\n",
    "Sparse is better than dense.\n",
    "Readability counts.\n",
    "Special cases aren't special enough to break the rules.\n",
    "Although practicality beats purity.\n",
    "Errors should never pass silently.\n",
    "Unless explicitly silenced.\n",
    "In the face of ambiguity, refuse the temptation to guess.\n",
    "There should be one-- and preferably only one --obvious way to do it.\n",
    "Although that way may not be obvious at first unless you're Dutch.\n",
    "Now is better than never.\n",
    "Although never is often better than *right* now.\n",
    "If the implementation is hard to explain, it's a bad idea.\n",
    "If the implementation is easy to explain, it may be a good idea.\n",
    "Namespaces are one honking great idea -- let's do more of those!\n",
    "'''"
   ]
  },
  {
   "cell_type": "code",
   "execution_count": 32,
   "metadata": {},
   "outputs": [
    {
     "data": {
      "text/plain": [
       "45"
      ]
     },
     "execution_count": 32,
     "metadata": {},
     "output_type": "execute_result"
    }
   ],
   "source": [
    "len(set(text))"
   ]
  },
  {
   "cell_type": "code",
   "execution_count": 33,
   "metadata": {},
   "outputs": [
    {
     "data": {
      "text/plain": [
       "144"
      ]
     },
     "execution_count": 33,
     "metadata": {},
     "output_type": "execute_result"
    }
   ],
   "source": [
    "len(text.split())"
   ]
  },
  {
   "cell_type": "code",
   "execution_count": 34,
   "metadata": {},
   "outputs": [
    {
     "data": {
      "text/plain": [
       "96"
      ]
     },
     "execution_count": 34,
     "metadata": {},
     "output_type": "execute_result"
    }
   ],
   "source": [
    "len(set(text.split()))"
   ]
  },
  {
   "cell_type": "code",
   "execution_count": 35,
   "metadata": {},
   "outputs": [
    {
     "ename": "KeyError",
     "evalue": "5",
     "output_type": "error",
     "traceback": [
      "\u001b[1;31m---------------------------------------------------------------------------\u001b[0m",
      "\u001b[1;31mKeyError\u001b[0m                                  Traceback (most recent call last)",
      "Cell \u001b[1;32mIn[35], line 1\u001b[0m\n\u001b[1;32m----> 1\u001b[0m \u001b[43m{\u001b[49m\u001b[38;5;241;43m1\u001b[39;49m\u001b[43m,\u001b[49m\u001b[38;5;241;43m2\u001b[39;49m\u001b[43m,\u001b[49m\u001b[38;5;241;43m3\u001b[39;49m\u001b[43m,\u001b[49m\u001b[38;5;241;43m4\u001b[39;49m\u001b[43m}\u001b[49m\u001b[38;5;241;43m.\u001b[39;49m\u001b[43mremove\u001b[49m\u001b[43m(\u001b[49m\u001b[38;5;241;43m5\u001b[39;49m\u001b[43m)\u001b[49m\n",
      "\u001b[1;31mKeyError\u001b[0m: 5"
     ]
    }
   ],
   "source": [
    "{1,2,3,4}.remove(5)"
   ]
  },
  {
   "cell_type": "code",
   "execution_count": 36,
   "metadata": {},
   "outputs": [
    {
     "ename": "ValueError",
     "evalue": "list.remove(x): x not in list",
     "output_type": "error",
     "traceback": [
      "\u001b[1;31m---------------------------------------------------------------------------\u001b[0m",
      "\u001b[1;31mValueError\u001b[0m                                Traceback (most recent call last)",
      "Cell \u001b[1;32mIn[36], line 1\u001b[0m\n\u001b[1;32m----> 1\u001b[0m \u001b[43m[\u001b[49m\u001b[38;5;241;43m1\u001b[39;49m\u001b[43m,\u001b[49m\u001b[38;5;241;43m2\u001b[39;49m\u001b[43m,\u001b[49m\u001b[38;5;241;43m3\u001b[39;49m\u001b[43m,\u001b[49m\u001b[38;5;241;43m4\u001b[39;49m\u001b[43m]\u001b[49m\u001b[38;5;241;43m.\u001b[39;49m\u001b[43mremove\u001b[49m\u001b[43m(\u001b[49m\u001b[38;5;241;43m5\u001b[39;49m\u001b[43m)\u001b[49m\n",
      "\u001b[1;31mValueError\u001b[0m: list.remove(x): x not in list"
     ]
    }
   ],
   "source": [
    "[1,2,3,4].remove(5)"
   ]
  },
  {
   "cell_type": "code",
   "execution_count": 37,
   "metadata": {},
   "outputs": [],
   "source": [
    "{1,2,3,4}.discard(5)"
   ]
  },
  {
   "cell_type": "code",
   "execution_count": 38,
   "metadata": {},
   "outputs": [
    {
     "data": {
      "text/plain": [
       "{1, 2, 3, 4}"
      ]
     },
     "execution_count": 38,
     "metadata": {},
     "output_type": "execute_result"
    }
   ],
   "source": [
    "{1,2,3,4} - {5}"
   ]
  },
  {
   "cell_type": "code",
   "execution_count": 39,
   "metadata": {},
   "outputs": [
    {
     "data": {
      "text/plain": [
       "{1, 2, 3, 4, 5, 6}"
      ]
     },
     "execution_count": 39,
     "metadata": {},
     "output_type": "execute_result"
    }
   ],
   "source": [
    "{1,2,3}.union({3,4,5,6})"
   ]
  },
  {
   "cell_type": "code",
   "execution_count": 40,
   "metadata": {},
   "outputs": [
    {
     "data": {
      "text/plain": [
       "{1, 2, 3, 4, 5, 6}"
      ]
     },
     "execution_count": 40,
     "metadata": {},
     "output_type": "execute_result"
    }
   ],
   "source": [
    "{1,2,3}|{3,4,5,6}"
   ]
  },
  {
   "cell_type": "code",
   "execution_count": 41,
   "metadata": {},
   "outputs": [
    {
     "data": {
      "text/plain": [
       "{3}"
      ]
     },
     "execution_count": 41,
     "metadata": {},
     "output_type": "execute_result"
    }
   ],
   "source": [
    "{1,2,3}.intersection({3,4,5,6})"
   ]
  },
  {
   "cell_type": "code",
   "execution_count": 42,
   "metadata": {},
   "outputs": [
    {
     "data": {
      "text/plain": [
       "{3}"
      ]
     },
     "execution_count": 42,
     "metadata": {},
     "output_type": "execute_result"
    }
   ],
   "source": [
    "{1,2,3}&{3,4,5,6}"
   ]
  },
  {
   "cell_type": "code",
   "execution_count": 43,
   "metadata": {},
   "outputs": [
    {
     "ename": "TypeError",
     "evalue": "unsupported operand type(s) for +: 'set' and 'set'",
     "output_type": "error",
     "traceback": [
      "\u001b[1;31m---------------------------------------------------------------------------\u001b[0m",
      "\u001b[1;31mTypeError\u001b[0m                                 Traceback (most recent call last)",
      "Cell \u001b[1;32mIn[43], line 1\u001b[0m\n\u001b[1;32m----> 1\u001b[0m \u001b[43m{\u001b[49m\u001b[38;5;241;43m1\u001b[39;49m\u001b[43m,\u001b[49m\u001b[38;5;241;43m2\u001b[39;49m\u001b[43m,\u001b[49m\u001b[38;5;241;43m3\u001b[39;49m\u001b[43m}\u001b[49m\u001b[38;5;241;43m+\u001b[39;49m\u001b[43m{\u001b[49m\u001b[38;5;241;43m3\u001b[39;49m\u001b[43m,\u001b[49m\u001b[38;5;241;43m4\u001b[39;49m\u001b[43m,\u001b[49m\u001b[38;5;241;43m5\u001b[39;49m\u001b[43m,\u001b[49m\u001b[38;5;241;43m6\u001b[39;49m\u001b[43m}\u001b[49m\n",
      "\u001b[1;31mTypeError\u001b[0m: unsupported operand type(s) for +: 'set' and 'set'"
     ]
    }
   ],
   "source": [
    "{1,2,3}"
   ]
  },
  {
   "cell_type": "code",
   "execution_count": 54,
   "metadata": {},
   "outputs": [
    {
     "name": "stdout",
     "output_type": "stream",
     "text": [
      "144\n",
      "84\n"
     ]
    }
   ],
   "source": [
    "#normalization\n",
    "text_nor = text.lower()\n",
    "special_letters = {'.',',',':','?','-','*','!'}\n",
    "for letter in special_letters:\n",
    "    text_nor = text_nor.replace(letter,' ')\n",
    "text_nor = text_nor.replace(\"n't\", ' not')\n",
    "words = text_nor.split()\n",
    "print(len(words))\n",
    "print(len(set(words)))"
   ]
  },
  {
   "cell_type": "code",
   "execution_count": 58,
   "metadata": {},
   "outputs": [
    {
     "name": "stdout",
     "output_type": "stream",
     "text": [
      "[('good', 1), ('simple', 1), ('beautiful', 1), ('special', 2), ('the', 6), ('should', 2), ('in', 1), ('honking', 1), (\"let's\", 1), ('counts', 1), ('rules', 1), ('preferably', 1), ('be', 3), ('right', 1), ('purity', 1), ('do', 2), ('explicit', 1), ('at', 1), ('peters', 1), ('unless', 2), ('break', 1), ('complicated', 1), ('dutch', 1), ('python', 1), ('tim', 1), ('ugly', 1), ('flat', 1), (\"it's\", 1), ('explain', 2), ('better', 8), (\"you're\", 1), ('enough', 1), ('dense', 1), ('nested', 1), ('now', 2), ('bad', 1), ('beats', 1), ('implementation', 2), ('if', 2), ('it', 2), ('are', 2), ('by', 1), ('errors', 1), ('explicitly', 1), ('hard', 1), ('that', 1), ('face', 1), ('although', 3), ('practicality', 1), ('temptation', 1), ('is', 10), ('silenced', 1), ('those', 1), ('silently', 1), ('easy', 1), ('namespaces', 1), ('than', 8), ('pass', 1), ('of', 3), ('great', 1), ('and', 1), ('refuse', 1), ('first', 1), ('guess', 1), ('may', 2), ('a', 2), ('ambiguity', 1), ('there', 1), ('often', 1), ('to', 5), ('obvious', 2), ('not', 2), ('readability', 1), ('zen', 1), ('way', 2), ('more', 1), ('only', 1), ('never', 3), ('one', 3), ('implicit', 1), ('cases', 1), ('sparse', 1), ('complex', 2), ('idea', 3)]\n"
     ]
    }
   ],
   "source": [
    "#frequency = [(word, word_fre)]\n",
    "fre_word = []\n",
    "unique_words = set(words)\n",
    "for word in unique_words:\n",
    "    fre_word.append((word,words.count(word)))\n",
    "print(fre_word)"
   ]
  },
  {
   "cell_type": "code",
   "execution_count": 60,
   "metadata": {},
   "outputs": [
    {
     "name": "stdout",
     "output_type": "stream",
     "text": [
      "[('the', 6), ('better', 8), ('is', 10), ('than', 8), ('to', 5)]\n"
     ]
    }
   ],
   "source": [
    "# top 5\n",
    "fre = [item[1] for item in fre_word]\n",
    "top5_fre = set(sorted(fre)[-5:])\n",
    "top5 = [item for item in fre_word if item[1] in top5_fre]\n",
    "print(top5)\n",
    " "
   ]
  },
  {
   "cell_type": "code",
   "execution_count": null,
   "metadata": {},
   "outputs": [],
   "source": []
  }
 ],
 "metadata": {
  "kernelspec": {
   "display_name": "env-teaching",
   "language": "python",
   "name": "python3"
  },
  "language_info": {
   "codemirror_mode": {
    "name": "ipython",
    "version": 3
   },
   "file_extension": ".py",
   "mimetype": "text/x-python",
   "name": "python",
   "nbconvert_exporter": "python",
   "pygments_lexer": "ipython3",
   "version": "3.11.7"
  }
 },
 "nbformat": 4,
 "nbformat_minor": 2
}
