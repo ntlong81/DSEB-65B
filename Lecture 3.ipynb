{
 "cells": [
  {
   "cell_type": "markdown",
   "metadata": {},
   "source": [
    "## Lecture 3"
   ]
  },
  {
   "cell_type": "code",
   "execution_count": 11,
   "metadata": {},
   "outputs": [
    {
     "name": "stdout",
     "output_type": "stream",
     "text": [
      "['Nguyễn Văn  Khôi', 'Hà Quang  Minh']\n"
     ]
    }
   ],
   "source": [
    "dseb65b='''Bùi Thị Lan  Anh\n",
    "Nguyễn Thị Mai  Anh\n",
    "Nguyễn Thị Vân  Anh\n",
    "Phạm Đức  Anh\n",
    "Trương Đức  Anh\n",
    "Phạm Thị Ngọc  Ánh\n",
    "Doãn Quốc  Bảo\n",
    "Nguyễn Mạnh  Cường\n",
    "Nguyễn Danh  Dũng\n",
    "Phạm Khánh  Dương\n",
    "Nguyễn Trần Quốc  Đạt\n",
    "Nguyễn Thị Hương  Giang\n",
    "Trần Thu  Hiền\n",
    "Trịnh Minh  Hiếu\n",
    "Đặng Ngọc  Hòa\n",
    "Bùi Huỳnh Gia  Huy\n",
    "Bùi Việt  Huy\n",
    "Đỗ Công  Huy\n",
    "Nguyễn Khánh  Huyền\n",
    "Lê Lan  Hương\n",
    "Nguyễn Văn  Khôi\n",
    "Nguyễn Trần Tuấn  Kiệt\n",
    "Đoàn Tùng  Lâm\n",
    "Đào Khánh  Linh\n",
    "Đỗ Hà  Linh\n",
    "Phạm Khánh  Linh\n",
    "Lý Thành  Long\n",
    "Phạm Thành  Long\n",
    "Hà Quang  Minh\n",
    "Nguyễn Đăng  Minh\n",
    "Nguyễn Thanh  Mơ\n",
    "Phạm Minh Bảo  Ngọc\n",
    "Nguyễn Hồng  Nhung\n",
    "Ngô Hoàng  Phúc\n",
    "Bùi Minh  Phương\n",
    "Nguyễn Thị Hà  Phương\n",
    "Thiều Diệu  Thúy\n",
    "Dương Thị Huyền  Trang\n",
    "Ninh Duy  Tuân\n",
    "Trần Anh  Tuấn\n",
    "Vũ Bùi Đình  Tùng\n",
    "'''\n",
    "name_list = dseb65b.split('\\n')\n",
    "import random\n",
    "print(random.choices(name_list,k=2))"
   ]
  },
  {
   "cell_type": "code",
   "execution_count": 12,
   "metadata": {},
   "outputs": [
    {
     "name": "stdout",
     "output_type": "stream",
     "text": [
      "[1, 2, 3, 4, 5, 6, 7, 8, 9, 10]\n"
     ]
    }
   ],
   "source": [
    "digits = list(range(1,11))\n",
    "print(digits)"
   ]
  },
  {
   "cell_type": "code",
   "execution_count": 13,
   "metadata": {},
   "outputs": [
    {
     "data": {
      "text/plain": [
       "[1, 2, 3, 4, 5]"
      ]
     },
     "execution_count": 13,
     "metadata": {},
     "output_type": "execute_result"
    }
   ],
   "source": [
    "digits[:5]"
   ]
  },
  {
   "cell_type": "code",
   "execution_count": 14,
   "metadata": {},
   "outputs": [
    {
     "data": {
      "text/plain": [
       "[10, 9, 8, 7, 6, 5, 4, 3, 2, 1]"
      ]
     },
     "execution_count": 14,
     "metadata": {},
     "output_type": "execute_result"
    }
   ],
   "source": [
    "digits[::-1]"
   ]
  },
  {
   "cell_type": "code",
   "execution_count": 15,
   "metadata": {},
   "outputs": [
    {
     "data": {
      "text/plain": [
       "'hon'"
      ]
     },
     "execution_count": 15,
     "metadata": {},
     "output_type": "execute_result"
    }
   ],
   "source": [
    "\"hello python\"[-3:]"
   ]
  },
  {
   "cell_type": "code",
   "execution_count": 16,
   "metadata": {},
   "outputs": [
    {
     "data": {
      "text/plain": [
       "True"
      ]
     },
     "execution_count": 16,
     "metadata": {},
     "output_type": "execute_result"
    }
   ],
   "source": [
    "a = [1,2,1]\n",
    "a[::-1] == a "
   ]
  },
  {
   "cell_type": "code",
   "execution_count": 17,
   "metadata": {},
   "outputs": [
    {
     "data": {
      "text/plain": [
       "False"
      ]
     },
     "execution_count": 17,
     "metadata": {},
     "output_type": "execute_result"
    }
   ],
   "source": [
    "mess = 'Hello python'\n",
    "mess[::-1] == mess"
   ]
  },
  {
   "cell_type": "code",
   "execution_count": 18,
   "metadata": {},
   "outputs": [
    {
     "data": {
      "text/plain": [
       "[1, 2, 3, 4, 5, 6, 7, 8, 9, 10]"
      ]
     },
     "execution_count": 18,
     "metadata": {},
     "output_type": "execute_result"
    }
   ],
   "source": [
    "digits"
   ]
  },
  {
   "cell_type": "code",
   "execution_count": 19,
   "metadata": {},
   "outputs": [
    {
     "name": "stdout",
     "output_type": "stream",
     "text": [
      "[[1, 2, 'changed'], 3, 4, 5]\n",
      "[[1, 2, 'changed'], 3, 4, 'changed']\n"
     ]
    }
   ],
   "source": [
    "#shallow copy\n",
    "alist = [[1,2,3],3,4,5]\n",
    "blist = alist[:]\n",
    "blist[0][2] = 'changed'\n",
    "blist[-1] = 'changed'\n",
    "print(alist)\n",
    "print(blist)"
   ]
  },
  {
   "cell_type": "code",
   "execution_count": 20,
   "metadata": {},
   "outputs": [
    {
     "name": "stdout",
     "output_type": "stream",
     "text": [
      "[[1, 2, 3], 3, 4, 5]\n",
      "[[1, 2, 'changed'], 3, 4, 'changed']\n"
     ]
    }
   ],
   "source": [
    "#Deep copy\n",
    "import copy\n",
    "alist = [[1,2,3],3,4,5]\n",
    "blist = copy.deepcopy(alist)\n",
    "blist[0][2] = 'changed'\n",
    "blist[-1] = 'changed'\n",
    "print(alist)\n",
    "print(blist)"
   ]
  },
  {
   "cell_type": "code",
   "execution_count": 21,
   "metadata": {},
   "outputs": [
    {
     "name": "stdout",
     "output_type": "stream",
     "text": [
      "The first three items in the list are:\n",
      "[1, 2, 3]\n",
      "Three items from the middle of the list are:\n",
      "[5, 6, 7]\n",
      "The last three items in the list are:\n",
      "[8, 9, 10]\n"
     ]
    }
   ],
   "source": [
    "#4.10\n",
    "numbers =[1, 2, 3, 4, 5, 6, 7, 8, 9, 10]\n",
    "print('The first three items in the list are:')\n",
    "print(numbers[:3])\n",
    "\n",
    "middle = len(numbers)//2\n",
    "print('Three items from the middle of the list are:')\n",
    "print(numbers[middle-1 : middle+2])\n",
    "\n",
    "print('The last three items in the list are:')\n",
    "print(numbers[-3:])\n",
    "\n",
    "\n",
    "\n",
    "\n"
   ]
  },
  {
   "cell_type": "code",
   "execution_count": 22,
   "metadata": {},
   "outputs": [
    {
     "name": "stdout",
     "output_type": "stream",
     "text": [
      "['giang', 'jerry', 'dat', 'ngoc']\n",
      "My favorite pizzas are: ['giang', 'jerry', 'dat', 'ngoc']\n",
      "My friend's favortie pizza are: ['giang', 'jerry', 'dat', 'ngoc', 'hien']\n"
     ]
    }
   ],
   "source": [
    "#4.11\n",
    "pizzas = ['giang', 'jerry','dat']\n",
    "pizzas.append('ngoc')\n",
    "print(pizzas)\n",
    "\n",
    "friend_pizzas = pizzas[:]\n",
    "friend_pizzas.append('hien')\n",
    "\n",
    "\n",
    "print(f'My favorite pizzas are: {[i for i in pizzas]}')\n",
    "print(f\"My friend's favortie pizza are: {[i for i in friend_pizzas]}\")\n",
    "    "
   ]
  },
  {
   "cell_type": "code",
   "execution_count": 23,
   "metadata": {},
   "outputs": [
    {
     "data": {
      "text/plain": [
       "('h', 'e', 'l', 'l', 'o')"
      ]
     },
     "execution_count": 23,
     "metadata": {},
     "output_type": "execute_result"
    }
   ],
   "source": [
    "tuple(\"hello\")"
   ]
  },
  {
   "cell_type": "code",
   "execution_count": 24,
   "metadata": {},
   "outputs": [
    {
     "data": {
      "text/plain": [
       "{'e', 'h', 'l', 'o'}"
      ]
     },
     "execution_count": 24,
     "metadata": {},
     "output_type": "execute_result"
    }
   ],
   "source": [
    "set('hello')"
   ]
  },
  {
   "cell_type": "code",
   "execution_count": 25,
   "metadata": {},
   "outputs": [
    {
     "name": "stdout",
     "output_type": "stream",
     "text": [
      "The Zen of Python, by Tim Peters\n",
      "\n",
      "Beautiful is better than ugly.\n",
      "Explicit is better than implicit.\n",
      "Simple is better than complex.\n",
      "Complex is better than complicated.\n",
      "Flat is better than nested.\n",
      "Sparse is better than dense.\n",
      "Readability counts.\n",
      "Special cases aren't special enough to break the rules.\n",
      "Although practicality beats purity.\n",
      "Errors should never pass silently.\n",
      "Unless explicitly silenced.\n",
      "In the face of ambiguity, refuse the temptation to guess.\n",
      "There should be one-- and preferably only one --obvious way to do it.\n",
      "Although that way may not be obvious at first unless you're Dutch.\n",
      "Now is better than never.\n",
      "Although never is often better than *right* now.\n",
      "If the implementation is hard to explain, it's a bad idea.\n",
      "If the implementation is easy to explain, it may be a good idea.\n",
      "Namespaces are one honking great idea -- let's do more of those!\n"
     ]
    }
   ],
   "source": [
    "import this "
   ]
  },
  {
   "cell_type": "code",
   "execution_count": 26,
   "metadata": {},
   "outputs": [],
   "source": [
    "text = '''\n",
    "The Zen of Python, by Tim Peters\n",
    "\n",
    "Beautiful is better than ugly.\n",
    "Explicit is better than implicit.\n",
    "Simple is better than complex.\n",
    "Complex is better than complicated.\n",
    "Flat is better than nested.\n",
    "Sparse is better than dense.\n",
    "Readability counts.\n",
    "Special cases aren't special enough to break the rules.\n",
    "Although practicality beats purity.\n",
    "Errors should never pass silently.\n",
    "Unless explicitly silenced.\n",
    "In the face of ambiguity, refuse the temptation to guess.\n",
    "There should be one-- and preferably only one --obvious way to do it.\n",
    "Although that way may not be obvious at first unless you're Dutch.\n",
    "Now is better than never.\n",
    "Although never is often better than *right* now.\n",
    "If the implementation is hard to explain, it's a bad idea.\n",
    "If the implementation is easy to explain, it may be a good idea.\n",
    "Namespaces are one honking great idea -- let's do more of those!\n",
    "'''"
   ]
  },
  {
   "cell_type": "code",
   "execution_count": 27,
   "metadata": {},
   "outputs": [
    {
     "data": {
      "text/plain": [
       "45"
      ]
     },
     "execution_count": 27,
     "metadata": {},
     "output_type": "execute_result"
    }
   ],
   "source": [
    "len(set(text))"
   ]
  },
  {
   "cell_type": "code",
   "execution_count": 28,
   "metadata": {},
   "outputs": [
    {
     "data": {
      "text/plain": [
       "144"
      ]
     },
     "execution_count": 28,
     "metadata": {},
     "output_type": "execute_result"
    }
   ],
   "source": [
    "len(text.split())"
   ]
  },
  {
   "cell_type": "code",
   "execution_count": 29,
   "metadata": {},
   "outputs": [
    {
     "data": {
      "text/plain": [
       "96"
      ]
     },
     "execution_count": 29,
     "metadata": {},
     "output_type": "execute_result"
    }
   ],
   "source": [
    "len(set(text.split()))"
   ]
  },
  {
   "cell_type": "code",
   "execution_count": 30,
   "metadata": {},
   "outputs": [],
   "source": [
    "{1,2,3,4}.discard(5)"
   ]
  },
  {
   "cell_type": "code",
   "execution_count": 31,
   "metadata": {},
   "outputs": [
    {
     "data": {
      "text/plain": [
       "{1, 2, 3, 4}"
      ]
     },
     "execution_count": 31,
     "metadata": {},
     "output_type": "execute_result"
    }
   ],
   "source": [
    "{1,2,3,4} - {5}"
   ]
  },
  {
   "cell_type": "code",
   "execution_count": 32,
   "metadata": {},
   "outputs": [
    {
     "data": {
      "text/plain": [
       "{1, 2, 3, 4, 5, 6}"
      ]
     },
     "execution_count": 32,
     "metadata": {},
     "output_type": "execute_result"
    }
   ],
   "source": [
    "{1,2,3}.union({3,4,5,6})"
   ]
  },
  {
   "cell_type": "code",
   "execution_count": 33,
   "metadata": {},
   "outputs": [
    {
     "data": {
      "text/plain": [
       "{1, 2, 3, 4, 5, 6}"
      ]
     },
     "execution_count": 33,
     "metadata": {},
     "output_type": "execute_result"
    }
   ],
   "source": [
    "{1,2,3}|{3,4,5,6}"
   ]
  },
  {
   "cell_type": "code",
   "execution_count": 34,
   "metadata": {},
   "outputs": [
    {
     "data": {
      "text/plain": [
       "{3}"
      ]
     },
     "execution_count": 34,
     "metadata": {},
     "output_type": "execute_result"
    }
   ],
   "source": [
    "{1,2,3}.intersection({3,4,5,6})"
   ]
  },
  {
   "cell_type": "code",
   "execution_count": 35,
   "metadata": {},
   "outputs": [
    {
     "data": {
      "text/plain": [
       "{3}"
      ]
     },
     "execution_count": 35,
     "metadata": {},
     "output_type": "execute_result"
    }
   ],
   "source": [
    "{1,2,3}&{3,4,5,6}"
   ]
  },
  {
   "cell_type": "code",
   "execution_count": 36,
   "metadata": {},
   "outputs": [
    {
     "name": "stdout",
     "output_type": "stream",
     "text": [
      "144\n",
      "84\n"
     ]
    }
   ],
   "source": [
    "#normalization\n",
    "text_nor = text.lower()\n",
    "special_letters = {'.',',',':','?','-','*','!'}\n",
    "for letter in special_letters:\n",
    "    text_nor = text_nor.replace(letter,' ')\n",
    "text_nor = text_nor.replace(\"n't\", ' not')\n",
    "words = text_nor.split()\n",
    "print(len(words))\n",
    "print(len(set(words)))"
   ]
  },
  {
   "cell_type": "code",
   "execution_count": 37,
   "metadata": {},
   "outputs": [
    {
     "name": "stdout",
     "output_type": "stream",
     "text": [
      "[('ugly', 1), ('counts', 1), ('simple', 1), ('dutch', 1), ('complicated', 1), ('sparse', 1), ('in', 1), ('readability', 1), ('way', 2), ('although', 3), ('preferably', 1), ('dense', 1), ('temptation', 1), ('enough', 1), ('rules', 1), ('than', 8), ('cases', 1), ('more', 1), ('may', 2), ('by', 1), ('python', 1), ('unless', 2), ('obvious', 2), ('nested', 1), ('first', 1), ('it', 2), ('hard', 1), ('easy', 1), ('one', 3), ('only', 1), ('peters', 1), ('practicality', 1), ('not', 2), ('explicit', 1), ('errors', 1), ('special', 2), ('pass', 1), ('namespaces', 1), ('purity', 1), ('great', 1), ('silenced', 1), ('break', 1), ('silently', 1), ('that', 1), (\"you're\", 1), ('right', 1), ('tim', 1), (\"it's\", 1), ('implicit', 1), ('explicitly', 1), ('ambiguity', 1), ('beats', 1), ('at', 1), ('of', 3), ('better', 8), ('implementation', 2), ('idea', 3), ('good', 1), ('there', 1), ('never', 3), ('face', 1), ('refuse', 1), ('guess', 1), ('and', 1), ('complex', 2), ('beautiful', 1), ('should', 2), ('now', 2), ('those', 1), ('flat', 1), ('honking', 1), ('zen', 1), ('often', 1), ('explain', 2), ('if', 2), ('bad', 1), (\"let's\", 1)]\n"
     ]
    }
   ],
   "source": [
    "#frequency = [(word, word_fre)]\n",
    "fre_word = []\n",
    "unique_words = set(words)\n",
    "unique_words -= {'the','to','is','are','a','do','be'}\n",
    "for word in unique_words:\n",
    "    fre_word.append((word,words.count(word)))\n",
    "print(fre_word)"
   ]
  },
  {
   "cell_type": "code",
   "execution_count": 38,
   "metadata": {},
   "outputs": [
    {
     "name": "stdout",
     "output_type": "stream",
     "text": [
      "[('although', 3), ('than', 8), ('one', 3), ('of', 3), ('better', 8), ('idea', 3), ('never', 3)]\n"
     ]
    }
   ],
   "source": [
    "# top 5\n",
    "fre = [item[1] for item in fre_word]\n",
    "top5_fre = set(sorted(fre)[-5:])\n",
    "top5 = [item for item in fre_word if item[1] in top5_fre]\n",
    "print(top5)\n",
    " "
   ]
  },
  {
   "cell_type": "code",
   "execution_count": 39,
   "metadata": {},
   "outputs": [
    {
     "data": {
      "text/plain": [
       "[('than', 8),\n",
       " ('better', 8),\n",
       " ('although', 3),\n",
       " ('one', 3),\n",
       " ('of', 3),\n",
       " ('idea', 3),\n",
       " ('never', 3),\n",
       " ('way', 2),\n",
       " ('may', 2),\n",
       " ('unless', 2),\n",
       " ('obvious', 2),\n",
       " ('it', 2),\n",
       " ('not', 2),\n",
       " ('special', 2),\n",
       " ('implementation', 2),\n",
       " ('complex', 2),\n",
       " ('should', 2),\n",
       " ('now', 2),\n",
       " ('explain', 2),\n",
       " ('if', 2),\n",
       " ('ugly', 1),\n",
       " ('counts', 1),\n",
       " ('simple', 1),\n",
       " ('dutch', 1),\n",
       " ('complicated', 1),\n",
       " ('sparse', 1),\n",
       " ('in', 1),\n",
       " ('readability', 1),\n",
       " ('preferably', 1),\n",
       " ('dense', 1),\n",
       " ('temptation', 1),\n",
       " ('enough', 1),\n",
       " ('rules', 1),\n",
       " ('cases', 1),\n",
       " ('more', 1),\n",
       " ('by', 1),\n",
       " ('python', 1),\n",
       " ('nested', 1),\n",
       " ('first', 1),\n",
       " ('hard', 1),\n",
       " ('easy', 1),\n",
       " ('only', 1),\n",
       " ('peters', 1),\n",
       " ('practicality', 1),\n",
       " ('explicit', 1),\n",
       " ('errors', 1),\n",
       " ('pass', 1),\n",
       " ('namespaces', 1),\n",
       " ('purity', 1),\n",
       " ('great', 1),\n",
       " ('silenced', 1),\n",
       " ('break', 1),\n",
       " ('silently', 1),\n",
       " ('that', 1),\n",
       " (\"you're\", 1),\n",
       " ('right', 1),\n",
       " ('tim', 1),\n",
       " (\"it's\", 1),\n",
       " ('implicit', 1),\n",
       " ('explicitly', 1),\n",
       " ('ambiguity', 1),\n",
       " ('beats', 1),\n",
       " ('at', 1),\n",
       " ('good', 1),\n",
       " ('there', 1),\n",
       " ('face', 1),\n",
       " ('refuse', 1),\n",
       " ('guess', 1),\n",
       " ('and', 1),\n",
       " ('beautiful', 1),\n",
       " ('those', 1),\n",
       " ('flat', 1),\n",
       " ('honking', 1),\n",
       " ('zen', 1),\n",
       " ('often', 1),\n",
       " ('bad', 1),\n",
       " (\"let's\", 1)]"
      ]
     },
     "execution_count": 39,
     "metadata": {},
     "output_type": "execute_result"
    }
   ],
   "source": [
    "sorted(fre_word, key = lambda x: x[1], reverse= True)"
   ]
  },
  {
   "cell_type": "code",
   "execution_count": 40,
   "metadata": {},
   "outputs": [
    {
     "data": {
      "text/plain": [
       "[('implementation', 2),\n",
       " ('practicality', 1),\n",
       " ('complicated', 1),\n",
       " ('readability', 1),\n",
       " ('preferably', 1),\n",
       " ('temptation', 1),\n",
       " ('namespaces', 1),\n",
       " ('explicitly', 1),\n",
       " ('ambiguity', 1),\n",
       " ('beautiful', 1),\n",
       " ('although', 3),\n",
       " ('explicit', 1),\n",
       " ('silenced', 1),\n",
       " ('silently', 1),\n",
       " ('implicit', 1),\n",
       " ('obvious', 2),\n",
       " ('special', 2),\n",
       " ('complex', 2),\n",
       " ('honking', 1),\n",
       " ('explain', 2),\n",
       " ('counts', 1),\n",
       " ('simple', 1),\n",
       " ('sparse', 1),\n",
       " ('enough', 1),\n",
       " ('python', 1),\n",
       " ('unless', 2),\n",
       " ('nested', 1),\n",
       " ('peters', 1),\n",
       " ('errors', 1),\n",
       " ('purity', 1),\n",
       " (\"you're\", 1),\n",
       " ('better', 8),\n",
       " ('refuse', 1),\n",
       " ('should', 2),\n",
       " ('dutch', 1),\n",
       " ('dense', 1),\n",
       " ('rules', 1),\n",
       " ('cases', 1),\n",
       " ('first', 1),\n",
       " ('great', 1),\n",
       " ('break', 1),\n",
       " ('right', 1),\n",
       " ('beats', 1),\n",
       " ('there', 1),\n",
       " ('never', 3),\n",
       " ('guess', 1),\n",
       " ('those', 1),\n",
       " ('often', 1),\n",
       " (\"let's\", 1),\n",
       " ('ugly', 1),\n",
       " ('than', 8),\n",
       " ('more', 1),\n",
       " ('hard', 1),\n",
       " ('easy', 1),\n",
       " ('only', 1),\n",
       " ('pass', 1),\n",
       " ('that', 1),\n",
       " (\"it's\", 1),\n",
       " ('idea', 3),\n",
       " ('good', 1),\n",
       " ('face', 1),\n",
       " ('flat', 1),\n",
       " ('way', 2),\n",
       " ('may', 2),\n",
       " ('one', 3),\n",
       " ('not', 2),\n",
       " ('tim', 1),\n",
       " ('and', 1),\n",
       " ('now', 2),\n",
       " ('zen', 1),\n",
       " ('bad', 1),\n",
       " ('in', 1),\n",
       " ('by', 1),\n",
       " ('it', 2),\n",
       " ('at', 1),\n",
       " ('of', 3),\n",
       " ('if', 2)]"
      ]
     },
     "execution_count": 40,
     "metadata": {},
     "output_type": "execute_result"
    }
   ],
   "source": [
    "sorted(fre_word, key = lambda x: len(x[0]), reverse= True)"
   ]
  },
  {
   "cell_type": "code",
   "execution_count": 41,
   "metadata": {},
   "outputs": [
    {
     "data": {
      "text/plain": [
       "['\\nThere should be one-- and preferably only one --obvious way to do it',\n",
       " '\\nIf the implementation is easy to explain, it may be a good idea',\n",
       " '\\nThe Zen of Python, by Tim Peters\\n\\nBeautiful is better than ugly',\n",
       " \"\\nAlthough that way may not be obvious at first unless you're Dutch\",\n",
       " \"\\nNamespaces are one honking great idea -- let's do more of those!\\n\",\n",
       " \"\\nIf the implementation is hard to explain, it's a bad idea\",\n",
       " '\\nIn the face of ambiguity, refuse the temptation to guess',\n",
       " \"\\nSpecial cases aren't special enough to break the rules\",\n",
       " '\\nAlthough never is often better than *right* now',\n",
       " '\\nExplicit is better than implicit',\n",
       " '\\nSimple is better than complex',\n",
       " '\\nComplex is better than complicated',\n",
       " '\\nFlat is better than nested',\n",
       " '\\nSparse is better than dense',\n",
       " '\\nErrors should never pass silently',\n",
       " '\\nNow is better than never',\n",
       " '\\nAlthough practicality beats purity',\n",
       " '\\nUnless explicitly silenced',\n",
       " '\\nReadability counts']"
      ]
     },
     "execution_count": 41,
     "metadata": {},
     "output_type": "execute_result"
    }
   ],
   "source": [
    "sorted(text.split('.'),reverse= True, key = lambda x: len(x.split()))"
   ]
  },
  {
   "cell_type": "code",
   "execution_count": 42,
   "metadata": {},
   "outputs": [
    {
     "data": {
      "text/plain": [
       "['\\nThere should be one-- and preferably only one --obvious way to do it',\n",
       " \"\\nAlthough that way may not be obvious at first unless you're Dutch\",\n",
       " \"\\nNamespaces are one honking great idea -- let's do more of those!\\n\",\n",
       " '\\nThe Zen of Python, by Tim Peters\\n\\nBeautiful is better than ugly',\n",
       " '\\nIf the implementation is easy to explain, it may be a good idea',\n",
       " \"\\nIf the implementation is hard to explain, it's a bad idea\",\n",
       " '\\nIn the face of ambiguity, refuse the temptation to guess',\n",
       " \"\\nSpecial cases aren't special enough to break the rules\",\n",
       " '\\nAlthough never is often better than *right* now',\n",
       " '\\nComplex is better than complicated',\n",
       " '\\nAlthough practicality beats purity',\n",
       " '\\nErrors should never pass silently',\n",
       " '\\nExplicit is better than implicit',\n",
       " '\\nSimple is better than complex',\n",
       " '\\nSparse is better than dense',\n",
       " '\\nFlat is better than nested',\n",
       " '\\nUnless explicitly silenced',\n",
       " '\\nNow is better than never',\n",
       " '\\nReadability counts']"
      ]
     },
     "execution_count": 42,
     "metadata": {},
     "output_type": "execute_result"
    }
   ],
   "source": [
    "sorted(text.split('.'),reverse= True, key = lambda x: len(x))"
   ]
  },
  {
   "cell_type": "code",
   "execution_count": 43,
   "metadata": {},
   "outputs": [
    {
     "data": {
      "text/plain": [
       "[1, 2, -4, 6, -9]"
      ]
     },
     "execution_count": 43,
     "metadata": {},
     "output_type": "execute_result"
    }
   ],
   "source": [
    "sorted([1,2,-4,6,-9], key=abs)"
   ]
  },
  {
   "cell_type": "code",
   "execution_count": 44,
   "metadata": {},
   "outputs": [
    {
     "data": {
      "text/plain": [
       "['sa', 'sdf', 'sdfsfd', 'sfsfsf']"
      ]
     },
     "execution_count": 44,
     "metadata": {},
     "output_type": "execute_result"
    }
   ],
   "source": [
    "sorted(['sdfsfd','sdf','sa','sfsfsf'], key = len)"
   ]
  },
  {
   "cell_type": "code",
   "execution_count": 45,
   "metadata": {},
   "outputs": [],
   "source": [
    "f = lambda x: x**2+1"
   ]
  },
  {
   "cell_type": "code",
   "execution_count": 46,
   "metadata": {},
   "outputs": [
    {
     "data": {
      "text/plain": [
       "2"
      ]
     },
     "execution_count": 46,
     "metadata": {},
     "output_type": "execute_result"
    }
   ],
   "source": [
    "f(1)"
   ]
  },
  {
   "cell_type": "code",
   "execution_count": 47,
   "metadata": {},
   "outputs": [
    {
     "data": {
      "text/plain": [
       "17"
      ]
     },
     "execution_count": 47,
     "metadata": {},
     "output_type": "execute_result"
    }
   ],
   "source": [
    "f(4)"
   ]
  },
  {
   "cell_type": "code",
   "execution_count": 48,
   "metadata": {},
   "outputs": [],
   "source": [
    "g = lambda x,y: x**2+x*y "
   ]
  },
  {
   "cell_type": "code",
   "execution_count": 49,
   "metadata": {},
   "outputs": [
    {
     "data": {
      "text/plain": [
       "10"
      ]
     },
     "execution_count": 49,
     "metadata": {},
     "output_type": "execute_result"
    }
   ],
   "source": [
    "g(2,3)"
   ]
  },
  {
   "cell_type": "code",
   "execution_count": 50,
   "metadata": {},
   "outputs": [],
   "source": [
    "k = lambda x: len(x[0])+ x[1]"
   ]
  },
  {
   "cell_type": "code",
   "execution_count": 51,
   "metadata": {},
   "outputs": [
    {
     "data": {
      "text/plain": [
       "13"
      ]
     },
     "execution_count": 51,
     "metadata": {},
     "output_type": "execute_result"
    }
   ],
   "source": [
    "k(('sentence 1', 3))"
   ]
  },
  {
   "cell_type": "code",
   "execution_count": 53,
   "metadata": {},
   "outputs": [
    {
     "data": {
      "text/plain": [
       "[('implementation', 2),\n",
       " ('better', 8),\n",
       " ('practicality', 1),\n",
       " ('complicated', 1),\n",
       " ('readability', 1),\n",
       " ('than', 8),\n",
       " ('although', 3),\n",
       " ('preferably', 1),\n",
       " ('temptation', 1),\n",
       " ('namespaces', 1),\n",
       " ('explicitly', 1),\n",
       " ('ambiguity', 1),\n",
       " ('beautiful', 1),\n",
       " ('obvious', 2),\n",
       " ('explicit', 1),\n",
       " ('special', 2),\n",
       " ('silenced', 1),\n",
       " ('silently', 1),\n",
       " ('implicit', 1),\n",
       " ('complex', 2),\n",
       " ('explain', 2),\n",
       " ('unless', 2),\n",
       " ('never', 3),\n",
       " ('should', 2),\n",
       " ('honking', 1),\n",
       " ('counts', 1),\n",
       " ('simple', 1),\n",
       " ('sparse', 1),\n",
       " ('enough', 1),\n",
       " ('python', 1),\n",
       " ('nested', 1),\n",
       " ('peters', 1),\n",
       " ('errors', 1),\n",
       " ('purity', 1),\n",
       " (\"you're\", 1),\n",
       " ('idea', 3),\n",
       " ('refuse', 1),\n",
       " ('dutch', 1),\n",
       " ('dense', 1),\n",
       " ('rules', 1),\n",
       " ('cases', 1),\n",
       " ('first', 1),\n",
       " ('one', 3),\n",
       " ('great', 1),\n",
       " ('break', 1),\n",
       " ('right', 1),\n",
       " ('beats', 1),\n",
       " ('there', 1),\n",
       " ('guess', 1),\n",
       " ('those', 1),\n",
       " ('often', 1),\n",
       " (\"let's\", 1),\n",
       " ('ugly', 1),\n",
       " ('way', 2),\n",
       " ('more', 1),\n",
       " ('may', 2),\n",
       " ('hard', 1),\n",
       " ('easy', 1),\n",
       " ('only', 1),\n",
       " ('not', 2),\n",
       " ('pass', 1),\n",
       " ('that', 1),\n",
       " (\"it's\", 1),\n",
       " ('of', 3),\n",
       " ('good', 1),\n",
       " ('face', 1),\n",
       " ('now', 2),\n",
       " ('flat', 1),\n",
       " ('it', 2),\n",
       " ('tim', 1),\n",
       " ('and', 1),\n",
       " ('zen', 1),\n",
       " ('if', 2),\n",
       " ('bad', 1),\n",
       " ('in', 1),\n",
       " ('by', 1),\n",
       " ('at', 1)]"
      ]
     },
     "execution_count": 53,
     "metadata": {},
     "output_type": "execute_result"
    }
   ],
   "source": [
    "sorted(fre_word, key = k, reverse= True)"
   ]
  },
  {
   "cell_type": "code",
   "execution_count": null,
   "metadata": {},
   "outputs": [],
   "source": []
  }
 ],
 "metadata": {
  "kernelspec": {
   "display_name": "env-teaching",
   "language": "python",
   "name": "python3"
  },
  "language_info": {
   "codemirror_mode": {
    "name": "ipython",
    "version": 3
   },
   "file_extension": ".py",
   "mimetype": "text/x-python",
   "name": "python",
   "nbconvert_exporter": "python",
   "pygments_lexer": "ipython3",
   "version": "3.11.7"
  }
 },
 "nbformat": 4,
 "nbformat_minor": 2
}
