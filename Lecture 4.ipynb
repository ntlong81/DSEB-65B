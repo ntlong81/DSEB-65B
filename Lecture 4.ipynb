{
 "cells": [
  {
   "cell_type": "markdown",
   "metadata": {},
   "source": [
    "## If condition"
   ]
  },
  {
   "cell_type": "code",
   "execution_count": 2,
   "metadata": {},
   "outputs": [
    {
     "name": "stdout",
     "output_type": "stream",
     "text": [
      "Your final cost is: 184.0\n"
     ]
    }
   ],
   "source": [
    "age = int(input('Your age: '))\n",
    "cost= int(input(\"Price: \"))\n",
    "discount = 0\n",
    "if age < 10:\n",
    "    discount = 0.15\n",
    "elif age <18:\n",
    "    discount = 0.08\n",
    "elif age <23:\n",
    "    discount = 0.05\n",
    "elif age <=60:\n",
    "    discount = 0.02\n",
    "else:\n",
    "    discount = 0.25\n",
    "\n",
    "print(f\"Your final cost is: {cost *(1-discount) }\")"
   ]
  },
  {
   "attachments": {
    "image.png": {
     "image/png": "[encoded data removed]"
    }
   },
   "cell_type": "markdown",
   "metadata": {},
   "source": [
    "![image.png](attachment:image.png)"
   ]
  },
  {
   "cell_type": "code",
   "execution_count": 4,
   "metadata": {},
   "outputs": [
    {
     "name": "stdout",
     "output_type": "stream",
     "text": [
      "Your final cost is: 38.0\n",
      "You get a gift!\n"
     ]
    }
   ],
   "source": [
    "age = int(input('Your age: '))\n",
    "cost= int(input(\"Price: \"))\n",
    "gender = input(\"Your gender is: \")\n",
    "gift = True\n",
    "discount = 0\n",
    "if age < 10:\n",
    "    discount = 0.15\n",
    "elif age <18:\n",
    "    discount = 0.08\n",
    "    if gender.lower() == 'male':\n",
    "            gift = False\n",
    "elif age <23:\n",
    "    discount = 0.05\n",
    "    if gender.lower() == 'male':\n",
    "            gift = False\n",
    "elif age <=60:\n",
    "    discount = 0.02\n",
    "    gift = False\n",
    "else:\n",
    "    discount = 0.25\n",
    "\n",
    "print(f\"Your final cost is: {cost *(1-discount) }\")\n",
    "if gift:\n",
    "    print('You get a gift!')\n",
    "else:\n",
    "    print('You get no gift!')"
   ]
  },
  {
   "cell_type": "code",
   "execution_count": 6,
   "metadata": {},
   "outputs": [
    {
     "name": "stdout",
     "output_type": "stream",
     "text": [
      "You earned 5 points\n"
     ]
    }
   ],
   "source": [
    "#5-3\n",
    "alien_color = 'green'\n",
    "if alien_color == 'green':\n",
    "    print('You earned 5 points')\n",
    "\n",
    "if alien_color != 'green':\n",
    "    print('You lost 5 points')"
   ]
  },
  {
   "cell_type": "code",
   "execution_count": 8,
   "metadata": {},
   "outputs": [
    {
     "name": "stdout",
     "output_type": "stream",
     "text": [
      "You earned 5 points for shooting the alien\n",
      "You earned 10 points\n"
     ]
    }
   ],
   "source": [
    "#5-4\n",
    "alien_color = 'green'\n",
    "if alien_color == 'green':\n",
    "    print('You earned 5 points for shooting the alien')\n",
    "if alien_color != 'green':\n",
    "    print('You earned 10 points')\n",
    "\n",
    "alien_color = 'red'\n",
    "if alien_color == 'green':\n",
    "    print('You earned 5 points for shooting the alien')\n",
    "else:\n",
    "    print('You earned 10 points')"
   ]
  },
  {
   "cell_type": "code",
   "execution_count": 9,
   "metadata": {},
   "outputs": [
    {
     "name": "stdout",
     "output_type": "stream",
     "text": [
      "the player earned 15 points\n"
     ]
    }
   ],
   "source": [
    "#5.5\n",
    "colours=input(\"the alien is:\")\n",
    "if 'green'in colours:\n",
    "    print(\"the player earned 5 points\")\n",
    "elif 'yellow'in colours:\n",
    "    print(\"the player earned 10 points\")\n",
    "elif 'red'in colours:\n",
    "    print(\"the player earned 15 points\")"
   ]
  },
  {
   "cell_type": "code",
   "execution_count": 13,
   "metadata": {},
   "outputs": [
    {
     "name": "stdout",
     "output_type": "stream",
     "text": [
      "the person is a teenager\n"
     ]
    }
   ],
   "source": [
    "#5.6\n",
    "age=int(input(\"your age is:\"))\n",
    "if age<2:\n",
    "    print(\"the person is a baby\")\n",
    "elif age<4:\n",
    "    print(\"the person is a toddler\")\n",
    "elif age<13:\n",
    "    print(\"the person is a kid\")\n",
    "elif age<20:\n",
    "    print(\"the person is a teenager\")\n",
    "elif age<65:\n",
    "    print(\"the person is an adult\")\n",
    "else:\n",
    "        print(\"the person is an elder\")\n",
    "\n"
   ]
  },
  {
   "cell_type": "code",
   "execution_count": null,
   "metadata": {},
   "outputs": [],
   "source": []
  },
  {
   "cell_type": "code",
   "execution_count": 19,
   "metadata": {},
   "outputs": [
    {
     "name": "stdout",
     "output_type": "stream",
     "text": [
      "you don't like grape\n"
     ]
    }
   ],
   "source": [
    "#5.7\n",
    "favourite_fruits=['apple','orange','lemon']\n",
    "fruit=input(\"the fruit is:\")\n",
    "if fruit in favourite_fruits:\n",
    "    print(f\"you really like {fruit}\")\n",
    "elif fruit !=favourite_fruits:\n",
    "    print(f\"you don't like {fruit}\")"
   ]
  },
  {
   "cell_type": "code",
   "execution_count": 20,
   "metadata": {},
   "outputs": [
    {
     "data": {
      "text/plain": [
       "False"
      ]
     },
     "execution_count": 20,
     "metadata": {},
     "output_type": "execute_result"
    }
   ],
   "source": [
    "bool([])"
   ]
  },
  {
   "cell_type": "code",
   "execution_count": 22,
   "metadata": {},
   "outputs": [
    {
     "data": {
      "text/plain": [
       "False"
      ]
     },
     "execution_count": 22,
     "metadata": {},
     "output_type": "execute_result"
    }
   ],
   "source": [
    "bool(())"
   ]
  },
  {
   "cell_type": "code",
   "execution_count": 23,
   "metadata": {},
   "outputs": [
    {
     "data": {
      "text/plain": [
       "False"
      ]
     },
     "execution_count": 23,
     "metadata": {},
     "output_type": "execute_result"
    }
   ],
   "source": [
    "bool(\"\")"
   ]
  },
  {
   "cell_type": "code",
   "execution_count": 24,
   "metadata": {},
   "outputs": [
    {
     "data": {
      "text/plain": [
       "False"
      ]
     },
     "execution_count": 24,
     "metadata": {},
     "output_type": "execute_result"
    }
   ],
   "source": [
    "bool({})"
   ]
  },
  {
   "cell_type": "code",
   "execution_count": 26,
   "metadata": {},
   "outputs": [
    {
     "name": "stdout",
     "output_type": "stream",
     "text": [
      "the set is not empty\n"
     ]
    }
   ],
   "source": [
    "aset = {1}\n",
    "if aset:\n",
    "    print(\"the set is not empty\")\n",
    "else:\n",
    "    print('The set is empty') "
   ]
  },
  {
   "cell_type": "code",
   "execution_count": 30,
   "metadata": {},
   "outputs": [
    {
     "name": "stdout",
     "output_type": "stream",
     "text": [
      "(0, 0)\n",
      "(0, 1)\n",
      "(0, 2)\n",
      "(0, 3)\n",
      "(0, 4)\n",
      "(1, 0)\n",
      "(1, 1)\n",
      "(1, 2)\n",
      "(1, 3)\n",
      "out of loop\n",
      "(2, 0)\n",
      "(2, 1)\n",
      "(2, 2)\n",
      "out of loop\n",
      "(3, 0)\n",
      "(3, 1)\n",
      "out of loop\n",
      "(4, 0)\n",
      "out of loop\n"
     ]
    }
   ],
   "source": [
    "for i in range(5):\n",
    "    for j in range(5):\n",
    "        if i+j==5:\n",
    "            print('out of loop')\n",
    "            break\n",
    "        print((i,j)) "
   ]
  },
  {
   "cell_type": "code",
   "execution_count": 31,
   "metadata": {},
   "outputs": [],
   "source": [
    "if aset:\n",
    "    pass "
   ]
  },
  {
   "cell_type": "code",
   "execution_count": 33,
   "metadata": {},
   "outputs": [
    {
     "name": "stdout",
     "output_type": "stream",
     "text": [
      "0\n",
      "1\n",
      "2\n",
      "4\n",
      "5\n"
     ]
    }
   ],
   "source": [
    "# continue\n",
    "for i in range(6):\n",
    "    if i==3:\n",
    "        continue\n",
    "    print(i)"
   ]
  },
  {
   "cell_type": "code",
   "execution_count": 39,
   "metadata": {},
   "outputs": [
    {
     "name": "stdout",
     "output_type": "stream",
     "text": [
      "Hello alpha, thank you for logging in again.\n",
      "Hello beta, thank you for logging in again.\n",
      "Hello delta, thank you for logging in again.\n",
      "Hello sigma, thank you for logging in again.\n",
      "Hello admin, would you like to see a status report?\n"
     ]
    }
   ],
   "source": [
    "#5.8\n",
    "username = ['alpha', 'beta', 'delta', 'sigma', 'admin']\n",
    "for i in range(len(username)):\n",
    "    if username[i] == 'admin':\n",
    "        print('Hello admin, would you like to see a status report?')\n",
    "    \n",
    "    else:\n",
    "        print(f'Hello {username[i]}, thank you for logging in again.')\n"
   ]
  },
  {
   "cell_type": "code",
   "execution_count": 40,
   "metadata": {},
   "outputs": [
    {
     "name": "stdout",
     "output_type": "stream",
     "text": [
      "[]\n",
      "We need to find some users!\n"
     ]
    }
   ],
   "source": [
    "#5.9\n",
    "for i in range(len(username)):\n",
    "    username.pop()\n",
    "print(username)\n",
    "if not username:\n",
    "    print('We need to find some users!')"
   ]
  },
  {
   "cell_type": "code",
   "execution_count": 41,
   "metadata": {},
   "outputs": [
    {
     "name": "stdout",
     "output_type": "stream",
     "text": [
      "You username tomorrow is available\n",
      "Sorry. The username vanh has been used. You need to enter a new username\n",
      "You username together is available\n",
      "Sorry. The username linh has been used. You need to enter a new username\n",
      "You username newww is available\n"
     ]
    }
   ],
   "source": [
    "# 5.10\n",
    "current_users = ['vanh', 'oops', 'linh', 'thuy', 'hehe']\n",
    "new_users = ['tomorrow', 'vanh', 'together', 'linh', 'newww']\n",
    "\n",
    "for user in new_users:\n",
    "    if user in current_users:\n",
    "        print(f\"Sorry. The username {user} has been used. You need to enter a new username\")\n",
    "    else: \n",
    "        print(f\"You username {user} is available\")"
   ]
  },
  {
   "cell_type": "code",
   "execution_count": 42,
   "metadata": {},
   "outputs": [
    {
     "name": "stdout",
     "output_type": "stream",
     "text": [
      "1st\n",
      "2nd\n",
      "3rd\n",
      "4th\n",
      "5th\n",
      "6th\n",
      "7th\n",
      "8th\n",
      "9th\n"
     ]
    }
   ],
   "source": [
    "# 5.11\n",
    "numbers = [1,2,3,4,5,6,7,8,9]\n",
    "for num in numbers:\n",
    "    if num==1:\n",
    "        print(f\"{num}st\")\n",
    "    elif num==2:\n",
    "        print(f\"{num}nd\")\n",
    "    elif num==3:\n",
    "        print(f\"{num}rd\")\n",
    "    else:\n",
    "        print(f\"{num}th\")"
   ]
  }
 ],
 "metadata": {
  "kernelspec": {
   "display_name": "env-teaching",
   "language": "python",
   "name": "python3"
  },
  "language_info": {
   "codemirror_mode": {
    "name": "ipython",
    "version": 3
   },
   "file_extension": ".py",
   "mimetype": "text/x-python",
   "name": "python",
   "nbconvert_exporter": "python",
   "pygments_lexer": "ipython3",
   "version": "3.11.7"
  }
 },
 "nbformat": 4,
 "nbformat_minor": 2
}
