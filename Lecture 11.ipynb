{
 "cells": [
  {
   "cell_type": "markdown",
   "metadata": {},
   "source": [
    "## Lecture 11"
   ]
  },
  {
   "cell_type": "code",
   "execution_count": 1,
   "metadata": {},
   "outputs": [
    {
     "name": "stdout",
     "output_type": "stream",
     "text": [
      "Our_module is imported\n"
     ]
    }
   ],
   "source": [
    "import our_module as om"
   ]
  },
  {
   "cell_type": "code",
   "execution_count": 2,
   "metadata": {},
   "outputs": [
    {
     "name": "stdout",
     "output_type": "stream",
     "text": [
      "['item_1', 'item_2', 'item_3', 'item_4']\n"
     ]
    }
   ],
   "source": [
    "my_stack = om.Stack()\n",
    "my_stack.push('item_1')\n",
    "my_stack.push('item_2')\n",
    "my_stack.push('item_3')\n",
    "my_stack.push('item_4')\n",
    "print(my_stack)"
   ]
  },
  {
   "cell_type": "code",
   "execution_count": 3,
   "metadata": {},
   "outputs": [
    {
     "name": "stdout",
     "output_type": "stream",
     "text": [
      "['item_3', 'item_2', 'item_1']\n"
     ]
    }
   ],
   "source": [
    "from our_module import Queue\n",
    "my_queue = Queue()\n",
    "my_queue.enqueue('item_1')\n",
    "my_queue.enqueue('item_2')\n",
    "my_queue.enqueue('item_3')\n",
    "print(my_queue)\n"
   ]
  },
  {
   "cell_type": "code",
   "execution_count": 4,
   "metadata": {},
   "outputs": [],
   "source": [
    "class User:\n",
    "    __user = []\n",
    "    def __init__(self, name, email) -> None:\n",
    "        if name not in User.__user:\n",
    "            self.name = name\n",
    "            self.email = email \n",
    "            User.__user.append(name)\n",
    "        else:\n",
    "            print(f'the {name} is existed, pleas choose another name!')\n",
    "    def __str__(self):\n",
    "        return f\"name: {self.name}-Email: {self.email}\"\n",
    "    @classmethod\n",
    "    def get_user(cls, pas):\n",
    "        if pas == 1234:\n",
    "            print(User.__user)\n",
    "    "
   ]
  },
  {
   "cell_type": "code",
   "execution_count": 5,
   "metadata": {},
   "outputs": [
    {
     "name": "stdout",
     "output_type": "stream",
     "text": [
      "name: Long-Email: ntlong@neu.edu.vn\n",
      "name: Hung-Email: 1122342@neu.edu.vn\n"
     ]
    }
   ],
   "source": [
    "user1 = User('Long','ntlong@neu.edu.vn')\n",
    "print(user1)\n",
    "user2 = User('Hung','1122342@neu.edu.vn')\n",
    "print(user2)"
   ]
  },
  {
   "cell_type": "code",
   "execution_count": 6,
   "metadata": {},
   "outputs": [
    {
     "data": {
      "text/plain": [
       "'Long'"
      ]
     },
     "execution_count": 6,
     "metadata": {},
     "output_type": "execute_result"
    }
   ],
   "source": [
    "user1.name"
   ]
  },
  {
   "cell_type": "code",
   "execution_count": 7,
   "metadata": {},
   "outputs": [
    {
     "name": "stdout",
     "output_type": "stream",
     "text": [
      "['Long', 'Hung']\n"
     ]
    }
   ],
   "source": [
    "User.get_user(1234)"
   ]
  },
  {
   "cell_type": "code",
   "execution_count": 8,
   "metadata": {},
   "outputs": [],
   "source": [
    "class BankAccount:\n",
    "    rate = 0.04\n",
    "    def __init__(self, account_number):\n",
    "        self.account_num = account_number\n",
    "    @classmethod\n",
    "    def set_interst_rate(cls, new_rate):\n",
    "        BankAccount.rate = new_rate\n",
    "    "
   ]
  },
  {
   "cell_type": "code",
   "execution_count": 9,
   "metadata": {},
   "outputs": [
    {
     "name": "stdout",
     "output_type": "stream",
     "text": [
      "0.04\n",
      "0.04\n",
      "0.05\n",
      "0.05\n"
     ]
    }
   ],
   "source": [
    "account1 = BankAccount('1234')\n",
    "account2 = BankAccount('5678')\n",
    "print(account1.rate)\n",
    "print(account2.rate)\n",
    "BankAccount.set_interst_rate(0.05)\n",
    "print(account1.rate)\n",
    "print(account2.rate)"
   ]
  },
  {
   "cell_type": "code",
   "execution_count": 10,
   "metadata": {},
   "outputs": [],
   "source": [
    "class Student:\n",
    "    def __init__(self, id, name) -> None:\n",
    "        self.id = id \n",
    "        self.name = name \n",
    "    def get_info(self):\n",
    "        return {'name': self.name, 'student id':self.id}\n",
    "\n",
    "class Course:\n",
    "    def __init__(self, class_name) -> None:\n",
    "        self.class_name = class_name\n",
    "        self.list_students = []\n",
    "    def enroll(self,student):\n",
    "        self.list_students.append(student)\n",
    "    def __str__(self):\n",
    "        return str([st.get_info() for st in self.list_students])\n"
   ]
  },
  {
   "cell_type": "code",
   "execution_count": 11,
   "metadata": {},
   "outputs": [],
   "source": [
    "pro4ds = Course('Pytho4DS')\n",
    "st1 = Student('Long',1231313)\n",
    "st2 = Student('Duc',1234513)\n",
    "st3 = Student('Lan',14431313)\n",
    "\n"
   ]
  },
  {
   "cell_type": "code",
   "execution_count": 12,
   "metadata": {},
   "outputs": [
    {
     "name": "stdout",
     "output_type": "stream",
     "text": [
      "[{'name': 1231313, 'student id': 'Long'}, {'name': 1234513, 'student id': 'Duc'}, {'name': 14431313, 'student id': 'Lan'}]\n"
     ]
    }
   ],
   "source": [
    "pro4ds.enroll(st1)\n",
    "pro4ds.enroll(st2)\n",
    "pro4ds.enroll(st3)\n",
    "print(pro4ds)"
   ]
  },
  {
   "cell_type": "code",
   "execution_count": 29,
   "metadata": {},
   "outputs": [],
   "source": [
    "from sympy import mod_inverse\n",
    "\n",
    "class RSA:\n",
    "    def __init__(self, p, q):\n",
    "        # Khởi tạo với hai số nguyên tố p và q\n",
    "        self.p = p\n",
    "        self.q = q\n",
    "        self.n = p * q\n",
    "        self.phi = (p - 1) * (q - 1)\n",
    "        \n",
    "        # Chọn khóa công khai e\n",
    "        self.e = self.choose_e(self.phi)\n",
    "        \n",
    "        # Tính khóa bí mật mặc định d (người dùng có thể nhập d khác khi giải mã)\n",
    "        self.d_default = mod_inverse(self.e, self.phi)\n",
    "\n",
    "    def choose_e(self, phi):\n",
    "        # Chọn e sao cho 1 < e < phi và gcd(e, phi) = 1\n",
    "        e = 29  # e phổ biến được sử dụng\n",
    "        if self.gcd(e, phi) == 1:\n",
    "            return e\n",
    "        else:\n",
    "            raise ValueError(\"Không tìm được e phù hợp.\")\n",
    "    \n",
    "    def gcd(self, a, b):\n",
    "        # Tính ước chung lớn nhất bằng thuật toán Euclid\n",
    "        while b != 0:\n",
    "            a, b = b, a % b\n",
    "        return a\n",
    "\n",
    "    def encrypt(self, plaintext):\n",
    "        # Mã hóa từng ký tự của chuỗi\n",
    "        cipher = [(ord(char) ** self.e) % self.n for char in plaintext]\n",
    "        return cipher\n",
    "\n",
    "    def decrypt(self, ciphertext, d):\n",
    "        # Giải mã từng ký tự bằng khóa bí mật d do người dùng cung cấp\n",
    "        plain = [chr((char ** d) % self.n) for char in ciphertext]\n",
    "        return ''.join(plain)\n"
   ]
  },
  {
   "cell_type": "code",
   "execution_count": 9,
   "metadata": {},
   "outputs": [],
   "source": [
    "from our_module import Stack\n",
    "class MyStack(Stack):\n",
    "    def __init__(self):\n",
    "        super().__init__()\n",
    "    def __str__(self):\n",
    "        return str(self._Stack__stack[-1])\n",
    "    def __lt__(self,other):\n",
    "        if isinstance(other, Stack):\n",
    "            return len(self._Stack__stack)<len(other._Stack__stack)\n",
    "        else:\n",
    "            return NotImplemented\n",
    "        "
   ]
  },
  {
   "cell_type": "code",
   "execution_count": 10,
   "metadata": {},
   "outputs": [
    {
     "data": {
      "text/plain": [
       "True"
      ]
     },
     "execution_count": 10,
     "metadata": {},
     "output_type": "execute_result"
    }
   ],
   "source": [
    "a = MyStack()\n",
    "a.push('a')\n",
    "a.push('b')\n",
    "b = MyStack()\n",
    "b.push('a')\n",
    "b.__lt__(a) \n"
   ]
  },
  {
   "cell_type": "code",
   "execution_count": null,
   "metadata": {},
   "outputs": [],
   "source": []
  },
  {
   "cell_type": "code",
   "execution_count": 6,
   "metadata": {},
   "outputs": [
    {
     "ename": "TypeError",
     "evalue": "expected 1 argument, got 0",
     "output_type": "error",
     "traceback": [
      "\u001b[1;31m---------------------------------------------------------------------------\u001b[0m",
      "\u001b[1;31mTypeError\u001b[0m                                 Traceback (most recent call last)",
      "Cell \u001b[1;32mIn[6], line 1\u001b[0m\n\u001b[1;32m----> 1\u001b[0m \u001b[43ma\u001b[49m\u001b[38;5;241;43m.\u001b[39;49m\u001b[38;5;21;43m__le__\u001b[39;49m\u001b[43m(\u001b[49m\u001b[43m)\u001b[49m\n",
      "\u001b[1;31mTypeError\u001b[0m: expected 1 argument, got 0"
     ]
    }
   ],
   "source": [
    "a.__le__()"
   ]
  },
  {
   "cell_type": "code",
   "execution_count": null,
   "metadata": {},
   "outputs": [],
   "source": []
  }
 ],
 "metadata": {
  "kernelspec": {
   "display_name": "env-teaching",
   "language": "python",
   "name": "python3"
  },
  "language_info": {
   "codemirror_mode": {
    "name": "ipython",
    "version": 3
   },
   "file_extension": ".py",
   "mimetype": "text/x-python",
   "name": "python",
   "nbconvert_exporter": "python",
   "pygments_lexer": "ipython3",
   "version": "3.11.7"
  }
 },
 "nbformat": 4,
 "nbformat_minor": 2
}
