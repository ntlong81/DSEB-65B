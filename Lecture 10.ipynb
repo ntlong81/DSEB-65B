{
 "cells": [
  {
   "cell_type": "markdown",
   "metadata": {},
   "source": [
    "## Lecture 10"
   ]
  },
  {
   "cell_type": "code",
   "execution_count": 15,
   "metadata": {},
   "outputs": [],
   "source": [
    "class Dog:\n",
    "    ''' docstring'''\n",
    "    def __init__(self,name, age, w):\n",
    "        self.name = name \n",
    "        self.age = age \n",
    "        self.weight = w \n",
    "    def sit(self):\n",
    "        print(f'{self.name} is sitting')\n",
    "    def roll_over(self):\n",
    "        if self.weight >10:\n",
    "            print(f\"{self.name} is rolling slowly\")\n",
    "        else:\n",
    "            print(f\"{self.name} is rolling\")\n",
    "    def sit_run(self):\n",
    "        self.sit()\n",
    "        print(f'{self.name} is running')"
   ]
  },
  {
   "cell_type": "code",
   "execution_count": 16,
   "metadata": {},
   "outputs": [
    {
     "name": "stdout",
     "output_type": "stream",
     "text": [
      "Xoài\n",
      "7\n",
      "Xoài is sitting\n",
      "Xoài is rolling slowly\n",
      "Xoài is sitting\n",
      "Xoài is running\n"
     ]
    }
   ],
   "source": [
    "my_dog = Dog('Xoài',7,12)\n",
    "print(my_dog.name)\n",
    "print(my_dog.age)\n",
    "my_dog.sit()\n",
    "my_dog.roll_over()\n",
    "my_dog.sit_run()"
   ]
  },
  {
   "cell_type": "code",
   "execution_count": 17,
   "metadata": {},
   "outputs": [
    {
     "name": "stdout",
     "output_type": "stream",
     "text": [
      "Xoài is rolling\n"
     ]
    }
   ],
   "source": [
    "my_dog.weight = 4\n",
    "my_dog.roll_over()"
   ]
  },
  {
   "cell_type": "code",
   "execution_count": 18,
   "metadata": {},
   "outputs": [
    {
     "data": {
      "text/plain": [
       "['__class__',\n",
       " '__delattr__',\n",
       " '__dict__',\n",
       " '__dir__',\n",
       " '__doc__',\n",
       " '__eq__',\n",
       " '__format__',\n",
       " '__ge__',\n",
       " '__getattribute__',\n",
       " '__getstate__',\n",
       " '__gt__',\n",
       " '__hash__',\n",
       " '__init__',\n",
       " '__init_subclass__',\n",
       " '__le__',\n",
       " '__lt__',\n",
       " '__module__',\n",
       " '__ne__',\n",
       " '__new__',\n",
       " '__reduce__',\n",
       " '__reduce_ex__',\n",
       " '__repr__',\n",
       " '__setattr__',\n",
       " '__sizeof__',\n",
       " '__str__',\n",
       " '__subclasshook__',\n",
       " '__weakref__',\n",
       " 'age',\n",
       " 'name',\n",
       " 'roll_over',\n",
       " 'sit',\n",
       " 'sit_run',\n",
       " 'weight']"
      ]
     },
     "execution_count": 18,
     "metadata": {},
     "output_type": "execute_result"
    }
   ],
   "source": [
    "dir(my_dog)"
   ]
  },
  {
   "cell_type": "markdown",
   "metadata": {},
   "source": [
    "**9-1. Restaurant:** Make a class called Restaurant. The __init__() method for\n",
    "Restaurant should store two attributes: a restaurant_name and a cuisine_type.\n",
    "Make a method called describe_restaurant() that prints these two pieces of\n",
    "information, and a method called open_restaurant() that prints a message indicating that the restaurant is open.\n",
    "Make an instance called restaurant from your class. Print the two attributes individually, and then call both methods.\n"
   ]
  },
  {
   "cell_type": "markdown",
   "metadata": {},
   "source": [
    "**9-2. Three Restaurants:** Start with your class from Exercise 9-1. Create three\n",
    "different instances from the class, and call describe_restaurant() for each\n",
    "instance.\n"
   ]
  },
  {
   "cell_type": "code",
   "execution_count": 19,
   "metadata": {},
   "outputs": [
    {
     "name": "stdout",
     "output_type": "stream",
     "text": [
      "Sen Tây Hồ\n",
      "Bánh tôm\n",
      "Sen Tây Hồ\n",
      "Bánh tôm\n",
      "The restaurant Sen Tây Hồ is open\n"
     ]
    }
   ],
   "source": [
    "class Restaurant:\n",
    "    def __init__ (self, restaurant_name, cuisine_type):\n",
    "        self.name = restaurant_name\n",
    "        self.cuisine = cuisine_type\n",
    "    def describe_restaurant(self):\n",
    "        print(self.name)\n",
    "        print(self.cuisine)\n",
    "    def open_restaurant(self):\n",
    "        print(f\"The restaurant {self.name} is open\")\n",
    "my_restaurant = Restaurant(\"Sen Tây Hồ\", \"Bánh tôm\")\n",
    "print(my_restaurant.name)\n",
    "print(my_restaurant.cuisine)\n",
    "my_restaurant.describe_restaurant()\n",
    "my_restaurant.open_restaurant()"
   ]
  },
  {
   "cell_type": "code",
   "execution_count": 20,
   "metadata": {},
   "outputs": [
    {
     "name": "stdout",
     "output_type": "stream",
     "text": [
      "Buffet\n",
      "Thịt nướng\n",
      "KFC\n",
      "Gà rán\n",
      "Bờ hồ\n",
      "Đồ chay\n"
     ]
    }
   ],
   "source": [
    "res_1 = Restaurant(\"Buffet\", \"Thịt nướng\")\n",
    "res_2 = Restaurant(\"KFC\", \"Gà rán\")\n",
    "res_3 = Restaurant(\"Bờ hồ\", \"Đồ chay\")\n",
    "res_1.describe_restaurant()\n",
    "res_2.describe_restaurant()\n",
    "res_3.describe_restaurant()\n"
   ]
  },
  {
   "cell_type": "markdown",
   "metadata": {},
   "source": [
    "**9-3. Users:** Make a class called User. Create two attributes called first_name\n",
    "and last_name, and then create several other attributes that are typically stored\n",
    "in a user profile. Make a method called describe_user() that prints a summary\n",
    "of the user’s information. Make another method called greet_user() that prints\n",
    "a personalized greeting to the user.\n",
    "Create several instances representing different users, and call both methods\n",
    "for each user."
   ]
  },
  {
   "cell_type": "code",
   "execution_count": 40,
   "metadata": {},
   "outputs": [],
   "source": [
    "class User:\n",
    "    def __init__(self, first_name,last_name,age,job,contact):\n",
    "        self.first = first_name\n",
    "        self.last = last_name\n",
    "        self.age = age\n",
    "        self.job = job\n",
    "        self.contact = contact\n",
    "        self.__p = 1234\n",
    "        self._protect = 12345\n",
    "    def describe_user(self):\n",
    "        full_name = self.first + self.last\n",
    "        profile = {\"full_name\": full_name,\n",
    "                   \"job\": self.job,\n",
    "                   \"age\": self.age,\n",
    "                   \"contact\": self.contact}\n",
    "        return profile\n",
    "    def greet_user(self):\n",
    "        print(f'Welcome {self.first} {self.last} to the show')\n",
    "    "
   ]
  },
  {
   "cell_type": "code",
   "execution_count": 41,
   "metadata": {},
   "outputs": [
    {
     "name": "stdout",
     "output_type": "stream",
     "text": [
      "{'full_name': 'Tung LamDoan', 'job': 'Unemployment', 'age': 19, 'contact': 123}\n",
      "{'full_name': 'HenryCavill', 'job': 'Actor', 'age': 36, 'contact': 578}\n",
      "Welcome Tung Lam Doan to the show\n",
      "Welcome Henry Cavill to the show\n"
     ]
    }
   ],
   "source": [
    "user1=User(\"Tung Lam\",\"Doan\",19,\"Unemployment\",123)\n",
    "user2=User(\"Henry\",\"Cavill\",36,\"Actor\",578)\n",
    "print(user1.describe_user())\n",
    "print(user2.describe_user())\n",
    "user1.greet_user()\n",
    "user2.greet_user()\n"
   ]
  },
  {
   "cell_type": "code",
   "execution_count": 42,
   "metadata": {},
   "outputs": [
    {
     "data": {
      "text/plain": [
       "['_User__p',\n",
       " '__class__',\n",
       " '__delattr__',\n",
       " '__dict__',\n",
       " '__dir__',\n",
       " '__doc__',\n",
       " '__eq__',\n",
       " '__format__',\n",
       " '__ge__',\n",
       " '__getattribute__',\n",
       " '__getstate__',\n",
       " '__gt__',\n",
       " '__hash__',\n",
       " '__init__',\n",
       " '__init_subclass__',\n",
       " '__le__',\n",
       " '__lt__',\n",
       " '__module__',\n",
       " '__ne__',\n",
       " '__new__',\n",
       " '__reduce__',\n",
       " '__reduce_ex__',\n",
       " '__repr__',\n",
       " '__setattr__',\n",
       " '__sizeof__',\n",
       " '__str__',\n",
       " '__subclasshook__',\n",
       " '__weakref__',\n",
       " '_protect',\n",
       " 'age',\n",
       " 'contact',\n",
       " 'describe_user',\n",
       " 'first',\n",
       " 'greet_user',\n",
       " 'job',\n",
       " 'last']"
      ]
     },
     "execution_count": 42,
     "metadata": {},
     "output_type": "execute_result"
    }
   ],
   "source": [
    "dir(user1)"
   ]
  },
  {
   "cell_type": "code",
   "execution_count": 43,
   "metadata": {},
   "outputs": [],
   "source": [
    "#stack\n",
    "class Stack:\n",
    "    def __init__(self):\n",
    "        self.__stack = []\n",
    "    def push(self, item):\n",
    "        return self.__stack.append(item)\n",
    "    def is_empty(self):\n",
    "        return not bool(self.__stack)\n",
    "    def size(self):\n",
    "        return len(self.__stack)\n",
    "    def pop(self):\n",
    "        if self.is_empty():\n",
    "            return \"the stack is empty\"\n",
    "        else:\n",
    "            return self.__stack.pop()\n",
    "    def peek(self):\n",
    "        if self.is_empty():\n",
    "            return \"the stack is empty\"\n",
    "        else:\n",
    "            return self.__stack[-1]\n"
   ]
  },
  {
   "cell_type": "code",
   "execution_count": 44,
   "metadata": {},
   "outputs": [
    {
     "name": "stdout",
     "output_type": "stream",
     "text": [
      "0\n",
      "True\n",
      "item5\n",
      "item5\n"
     ]
    }
   ],
   "source": [
    "my_stack = Stack()\n",
    "print(my_stack.size())\n",
    "print(my_stack.is_empty())\n",
    "my_stack.push('item1')\n",
    "my_stack.push('item2')\n",
    "my_stack.push('item3')\n",
    "my_stack.push('item4')\n",
    "my_stack.push('item5')\n",
    "print(my_stack.peek())\n",
    "print(my_stack.pop())\n"
   ]
  },
  {
   "cell_type": "code",
   "execution_count": null,
   "metadata": {},
   "outputs": [],
   "source": []
  }
 ],
 "metadata": {
  "kernelspec": {
   "display_name": "env-teaching",
   "language": "python",
   "name": "python3"
  },
  "language_info": {
   "codemirror_mode": {
    "name": "ipython",
    "version": 3
   },
   "file_extension": ".py",
   "mimetype": "text/x-python",
   "name": "python",
   "nbconvert_exporter": "python",
   "pygments_lexer": "ipython3",
   "version": "3.11.7"
  }
 },
 "nbformat": 4,
 "nbformat_minor": 2
}
